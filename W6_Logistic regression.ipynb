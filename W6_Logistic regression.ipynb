{
 "cells": [
  {
   "cell_type": "code",
   "execution_count": 1,
   "id": "a6a44915",
   "metadata": {},
   "outputs": [],
   "source": [
    "#load the required packages/modules\n",
    "import pandas as pd\n",
    "import numpy as np\n",
    "import matplotlib.pyplot as plt\n",
    "import seaborn as sns\n",
    "import statsmodels.formula.api as smf"
   ]
  },
  {
   "cell_type": "markdown",
   "id": "3d6748f5",
   "metadata": {},
   "source": [
    "# Binary Linear Regression (Logistic Regression)\n",
    "\n",
    "We have discussed one Linear Regression model in this course, that is Normal Linear Regression model in which the response variable is Normally distributed. Another important and widely used type of linear model is Binary Linear Regression or \"Logistic Regression\" in which the response variable is a Binary (dichotomous)  variable. In such a model the response variable takes only two states for each member of the sample, for example it could be yes/no, 0/1, positive/negative, disease/no_disease, absent/present, etc. You see that such a variable can't be normally distributed so we need a different type of linear model to model it. \n",
    "\n",
    "This notebook is a brief introduction on how to fit a Logistic Regression model and assess it. Logistic Regression is also considered a classification technique in machine learning as it enables us to predict a binary response variable, therefore categorising the (current/future) observations in two categories of the response variable."
   ]
  },
  {
   "cell_type": "markdown",
   "id": "92396ff5",
   "metadata": {},
   "source": [
    "## Data\n",
    "\n",
    "\"This dataset is a stratified random sample from all active customers (at the end of June 2006) of a European financial services company. The dependent variable in this dataset is the churn behaviour of the customers in the period from July 1st until December 31th 2006. Here a churned customer is defined as someone who closed all their bank accounts with the company. All predictor variables are standardized. This dataset is a small subset of the dataset used by Benoit and Van den Poel (2013). The dataset is structured as a dataframe with 400 observations and 5 variables. \" Source: https://www.rdocumentation.org/packages/bayesQR/versions/2.3/topics/Churn\n",
    "\n",
    "The data frame has the following components:\n",
    "\n",
    "    churn : churn (yes=1 / no=0)\n",
    "    gender : gender of the customer (male=1 / female=0)\n",
    "    Social_Class_Score : social class of the customer\n",
    "    lor : length of relationship with the customer\n",
    "    recency : number of days since last purchase\n",
    "    \n",
    "We aim to model the response variable `churn` (which only takes 0 or 1 values) to explain and predict the customer's behaviour in closing/keeping their bank accounts with this company using the provided predictors in the dataset. \n",
    "\n",
    "Let's look at the dataset and summary of its variables:\n"
   ]
  },
  {
   "cell_type": "code",
   "execution_count": 2,
   "id": "bc44ce52",
   "metadata": {},
   "outputs": [
    {
     "data": {
      "text/html": [
       "<div>\n",
       "<style scoped>\n",
       "    .dataframe tbody tr th:only-of-type {\n",
       "        vertical-align: middle;\n",
       "    }\n",
       "\n",
       "    .dataframe tbody tr th {\n",
       "        vertical-align: top;\n",
       "    }\n",
       "\n",
       "    .dataframe thead th {\n",
       "        text-align: right;\n",
       "    }\n",
       "</style>\n",
       "<table border=\"1\" class=\"dataframe\">\n",
       "  <thead>\n",
       "    <tr style=\"text-align: right;\">\n",
       "      <th></th>\n",
       "      <th>Unnamed: 0</th>\n",
       "      <th>churn</th>\n",
       "      <th>gender</th>\n",
       "      <th>Social_Class_Score</th>\n",
       "      <th>lor</th>\n",
       "      <th>recency</th>\n",
       "    </tr>\n",
       "  </thead>\n",
       "  <tbody>\n",
       "    <tr>\n",
       "      <th>0</th>\n",
       "      <td>4632</td>\n",
       "      <td>0</td>\n",
       "      <td>1</td>\n",
       "      <td>-0.115675</td>\n",
       "      <td>-1.089221</td>\n",
       "      <td>-0.721322</td>\n",
       "    </tr>\n",
       "    <tr>\n",
       "      <th>1</th>\n",
       "      <td>9695</td>\n",
       "      <td>0</td>\n",
       "      <td>0</td>\n",
       "      <td>-0.313425</td>\n",
       "      <td>1.182983</td>\n",
       "      <td>3.634435</td>\n",
       "    </tr>\n",
       "    <tr>\n",
       "      <th>2</th>\n",
       "      <td>14160</td>\n",
       "      <td>0</td>\n",
       "      <td>1</td>\n",
       "      <td>-1.325439</td>\n",
       "      <td>-0.846156</td>\n",
       "      <td>-0.427582</td>\n",
       "    </tr>\n",
       "    <tr>\n",
       "      <th>3</th>\n",
       "      <td>11016</td>\n",
       "      <td>0</td>\n",
       "      <td>1</td>\n",
       "      <td>1.966515</td>\n",
       "      <td>0.086942</td>\n",
       "      <td>-0.535672</td>\n",
       "    </tr>\n",
       "    <tr>\n",
       "      <th>4</th>\n",
       "      <td>16286</td>\n",
       "      <td>0</td>\n",
       "      <td>1</td>\n",
       "      <td>1.454692</td>\n",
       "      <td>-1.166642</td>\n",
       "      <td>-0.672640</td>\n",
       "    </tr>\n",
       "    <tr>\n",
       "      <th>...</th>\n",
       "      <td>...</td>\n",
       "      <td>...</td>\n",
       "      <td>...</td>\n",
       "      <td>...</td>\n",
       "      <td>...</td>\n",
       "      <td>...</td>\n",
       "    </tr>\n",
       "    <tr>\n",
       "      <th>395</th>\n",
       "      <td>761</td>\n",
       "      <td>1</td>\n",
       "      <td>1</td>\n",
       "      <td>0.617163</td>\n",
       "      <td>1.077655</td>\n",
       "      <td>0.878567</td>\n",
       "    </tr>\n",
       "    <tr>\n",
       "      <th>396</th>\n",
       "      <td>16865</td>\n",
       "      <td>1</td>\n",
       "      <td>0</td>\n",
       "      <td>-1.104424</td>\n",
       "      <td>-1.273770</td>\n",
       "      <td>-0.869016</td>\n",
       "    </tr>\n",
       "    <tr>\n",
       "      <th>397</th>\n",
       "      <td>6225</td>\n",
       "      <td>1</td>\n",
       "      <td>0</td>\n",
       "      <td>0.407781</td>\n",
       "      <td>-0.426195</td>\n",
       "      <td>0.684666</td>\n",
       "    </tr>\n",
       "    <tr>\n",
       "      <th>398</th>\n",
       "      <td>6187</td>\n",
       "      <td>1</td>\n",
       "      <td>1</td>\n",
       "      <td>-0.278528</td>\n",
       "      <td>0.818836</td>\n",
       "      <td>1.428091</td>\n",
       "    </tr>\n",
       "    <tr>\n",
       "      <th>399</th>\n",
       "      <td>11348</td>\n",
       "      <td>1</td>\n",
       "      <td>1</td>\n",
       "      <td>2.245691</td>\n",
       "      <td>0.691452</td>\n",
       "      <td>1.346405</td>\n",
       "    </tr>\n",
       "  </tbody>\n",
       "</table>\n",
       "<p>400 rows × 6 columns</p>\n",
       "</div>"
      ],
      "text/plain": [
       "     Unnamed: 0  churn  gender  Social_Class_Score       lor   recency\n",
       "0          4632      0       1           -0.115675 -1.089221 -0.721322\n",
       "1          9695      0       0           -0.313425  1.182983  3.634435\n",
       "2         14160      0       1           -1.325439 -0.846156 -0.427582\n",
       "3         11016      0       1            1.966515  0.086942 -0.535672\n",
       "4         16286      0       1            1.454692 -1.166642 -0.672640\n",
       "..          ...    ...     ...                 ...       ...       ...\n",
       "395         761      1       1            0.617163  1.077655  0.878567\n",
       "396       16865      1       0           -1.104424 -1.273770 -0.869016\n",
       "397        6225      1       0            0.407781 -0.426195  0.684666\n",
       "398        6187      1       1           -0.278528  0.818836  1.428091\n",
       "399       11348      1       1            2.245691  0.691452  1.346405\n",
       "\n",
       "[400 rows x 6 columns]"
      ]
     },
     "execution_count": 2,
     "metadata": {},
     "output_type": "execute_result"
    }
   ],
   "source": [
    "churndata = pd.read_csv(\"Churn-BayesQR-R.csv\")\n",
    "churndata"
   ]
  },
  {
   "cell_type": "code",
   "execution_count": 4,
   "id": "46315d2f",
   "metadata": {},
   "outputs": [
    {
     "data": {
      "text/html": [
       "<div>\n",
       "<style scoped>\n",
       "    .dataframe tbody tr th:only-of-type {\n",
       "        vertical-align: middle;\n",
       "    }\n",
       "\n",
       "    .dataframe tbody tr th {\n",
       "        vertical-align: top;\n",
       "    }\n",
       "\n",
       "    .dataframe thead th {\n",
       "        text-align: right;\n",
       "    }\n",
       "</style>\n",
       "<table border=\"1\" class=\"dataframe\">\n",
       "  <thead>\n",
       "    <tr style=\"text-align: right;\">\n",
       "      <th></th>\n",
       "      <th>Unnamed: 0</th>\n",
       "      <th>churn</th>\n",
       "      <th>gender</th>\n",
       "      <th>Social_Class_Score</th>\n",
       "      <th>lor</th>\n",
       "      <th>recency</th>\n",
       "    </tr>\n",
       "  </thead>\n",
       "  <tbody>\n",
       "    <tr>\n",
       "      <th>count</th>\n",
       "      <td>400.000000</td>\n",
       "      <td>400.000000</td>\n",
       "      <td>400.000000</td>\n",
       "      <td>400.000000</td>\n",
       "      <td>400.000000</td>\n",
       "      <td>400.000000</td>\n",
       "    </tr>\n",
       "    <tr>\n",
       "      <th>mean</th>\n",
       "      <td>8635.430000</td>\n",
       "      <td>0.500000</td>\n",
       "      <td>0.495000</td>\n",
       "      <td>-0.052156</td>\n",
       "      <td>-0.034370</td>\n",
       "      <td>0.144549</td>\n",
       "    </tr>\n",
       "    <tr>\n",
       "      <th>std</th>\n",
       "      <td>4773.621405</td>\n",
       "      <td>0.500626</td>\n",
       "      <td>0.500601</td>\n",
       "      <td>1.083829</td>\n",
       "      <td>0.952936</td>\n",
       "      <td>1.103133</td>\n",
       "    </tr>\n",
       "    <tr>\n",
       "      <th>min</th>\n",
       "      <td>20.000000</td>\n",
       "      <td>0.000000</td>\n",
       "      <td>0.000000</td>\n",
       "      <td>-4.803510</td>\n",
       "      <td>-1.273770</td>\n",
       "      <td>-0.870666</td>\n",
       "    </tr>\n",
       "    <tr>\n",
       "      <th>25%</th>\n",
       "      <td>4876.000000</td>\n",
       "      <td>0.000000</td>\n",
       "      <td>0.000000</td>\n",
       "      <td>-0.688568</td>\n",
       "      <td>-0.828377</td>\n",
       "      <td>-0.645824</td>\n",
       "    </tr>\n",
       "    <tr>\n",
       "      <th>50%</th>\n",
       "      <td>8636.000000</td>\n",
       "      <td>0.500000</td>\n",
       "      <td>0.000000</td>\n",
       "      <td>-0.045881</td>\n",
       "      <td>-0.152072</td>\n",
       "      <td>-0.265036</td>\n",
       "    </tr>\n",
       "    <tr>\n",
       "      <th>75%</th>\n",
       "      <td>12554.750000</td>\n",
       "      <td>1.000000</td>\n",
       "      <td>1.000000</td>\n",
       "      <td>0.550277</td>\n",
       "      <td>0.544826</td>\n",
       "      <td>0.571214</td>\n",
       "    </tr>\n",
       "    <tr>\n",
       "      <th>max</th>\n",
       "      <td>16908.000000</td>\n",
       "      <td>1.000000</td>\n",
       "      <td>1.000000</td>\n",
       "      <td>3.432190</td>\n",
       "      <td>3.738312</td>\n",
       "      <td>5.928242</td>\n",
       "    </tr>\n",
       "  </tbody>\n",
       "</table>\n",
       "</div>"
      ],
      "text/plain": [
       "         Unnamed: 0       churn      gender  Social_Class_Score         lor  \\\n",
       "count    400.000000  400.000000  400.000000          400.000000  400.000000   \n",
       "mean    8635.430000    0.500000    0.495000           -0.052156   -0.034370   \n",
       "std     4773.621405    0.500626    0.500601            1.083829    0.952936   \n",
       "min       20.000000    0.000000    0.000000           -4.803510   -1.273770   \n",
       "25%     4876.000000    0.000000    0.000000           -0.688568   -0.828377   \n",
       "50%     8636.000000    0.500000    0.000000           -0.045881   -0.152072   \n",
       "75%    12554.750000    1.000000    1.000000            0.550277    0.544826   \n",
       "max    16908.000000    1.000000    1.000000            3.432190    3.738312   \n",
       "\n",
       "          recency  \n",
       "count  400.000000  \n",
       "mean     0.144549  \n",
       "std      1.103133  \n",
       "min     -0.870666  \n",
       "25%     -0.645824  \n",
       "50%     -0.265036  \n",
       "75%      0.571214  \n",
       "max      5.928242  "
      ]
     },
     "execution_count": 4,
     "metadata": {},
     "output_type": "execute_result"
    }
   ],
   "source": [
    "churndata.describe()"
   ]
  },
  {
   "cell_type": "markdown",
   "id": "f0952c47",
   "metadata": {},
   "source": [
    "We make a `crosstab` table to see how many 0/1 there are in churn variable. In this case the number of each category's observations are equal but it is just a coincidence and the response doen't have to be like that. "
   ]
  },
  {
   "cell_type": "code",
   "execution_count": 5,
   "id": "ea529c9d",
   "metadata": {},
   "outputs": [
    {
     "data": {
      "text/html": [
       "<div>\n",
       "<style scoped>\n",
       "    .dataframe tbody tr th:only-of-type {\n",
       "        vertical-align: middle;\n",
       "    }\n",
       "\n",
       "    .dataframe tbody tr th {\n",
       "        vertical-align: top;\n",
       "    }\n",
       "\n",
       "    .dataframe thead th {\n",
       "        text-align: right;\n",
       "    }\n",
       "</style>\n",
       "<table border=\"1\" class=\"dataframe\">\n",
       "  <thead>\n",
       "    <tr style=\"text-align: right;\">\n",
       "      <th>col_0</th>\n",
       "      <th>count</th>\n",
       "    </tr>\n",
       "    <tr>\n",
       "      <th>churn</th>\n",
       "      <th></th>\n",
       "    </tr>\n",
       "  </thead>\n",
       "  <tbody>\n",
       "    <tr>\n",
       "      <th>0</th>\n",
       "      <td>200</td>\n",
       "    </tr>\n",
       "    <tr>\n",
       "      <th>1</th>\n",
       "      <td>200</td>\n",
       "    </tr>\n",
       "  </tbody>\n",
       "</table>\n",
       "</div>"
      ],
      "text/plain": [
       "col_0  count\n",
       "churn       \n",
       "0        200\n",
       "1        200"
      ]
     },
     "execution_count": 5,
     "metadata": {},
     "output_type": "execute_result"
    }
   ],
   "source": [
    "pd.crosstab(index=churndata['churn'], columns='count')"
   ]
  },
  {
   "cell_type": "markdown",
   "id": "cb58bebb",
   "metadata": {},
   "source": [
    "We can still fit a normal linear regression to this response variable and check the model's output. However, we know this is not correct and the model is not reliable because the response variable is not approximately normally distributed.\n",
    "\n",
    "The predictor variable `gender` is a categorical variable, meaning that the two values it takes, 0 and 1, are not representing integer values of 0 and 1, but categories. So we wrap it in an uppercase C and parentheses () to indicate it is a categorical variable. It is common to describe categorical variables like this. For example, if you have a variable showing blood groups as A, B, AB and O and you want to include it in a model, whether the categories are shown with A, B, AB and O or 0,1,2,3, you can use the C(blood_type) in a model."
   ]
  },
  {
   "cell_type": "code",
   "execution_count": 39,
   "id": "6dfc55dd",
   "metadata": {},
   "outputs": [
    {
     "data": {
      "text/html": [
       "<table class=\"simpletable\">\n",
       "<caption>OLS Regression Results</caption>\n",
       "<tr>\n",
       "  <th>Dep. Variable:</th>          <td>churn</td>      <th>  R-squared:         </th> <td>   0.079</td>\n",
       "</tr>\n",
       "<tr>\n",
       "  <th>Model:</th>                   <td>OLS</td>       <th>  Adj. R-squared:    </th> <td>   0.069</td>\n",
       "</tr>\n",
       "<tr>\n",
       "  <th>Method:</th>             <td>Least Squares</td>  <th>  F-statistic:       </th> <td>   8.444</td>\n",
       "</tr>\n",
       "<tr>\n",
       "  <th>Date:</th>             <td>Mon, 17 Oct 2022</td> <th>  Prob (F-statistic):</th> <td>1.52e-06</td>\n",
       "</tr>\n",
       "<tr>\n",
       "  <th>Time:</th>                 <td>16:54:11</td>     <th>  Log-Likelihood:    </th> <td> -273.91</td>\n",
       "</tr>\n",
       "<tr>\n",
       "  <th>No. Observations:</th>      <td>   400</td>      <th>  AIC:               </th> <td>   557.8</td>\n",
       "</tr>\n",
       "<tr>\n",
       "  <th>Df Residuals:</th>          <td>   395</td>      <th>  BIC:               </th> <td>   577.8</td>\n",
       "</tr>\n",
       "<tr>\n",
       "  <th>Df Model:</th>              <td>     4</td>      <th>                     </th>     <td> </td>   \n",
       "</tr>\n",
       "<tr>\n",
       "  <th>Covariance Type:</th>      <td>nonrobust</td>    <th>                     </th>     <td> </td>   \n",
       "</tr>\n",
       "</table>\n",
       "<table class=\"simpletable\">\n",
       "<tr>\n",
       "           <td></td>             <th>coef</th>     <th>std err</th>      <th>t</th>      <th>P>|t|</th>  <th>[0.025</th>    <th>0.975]</th>  \n",
       "</tr>\n",
       "<tr>\n",
       "  <th>Intercept</th>          <td>    0.4865</td> <td>    0.035</td> <td>   14.022</td> <td> 0.000</td> <td>    0.418</td> <td>    0.555</td>\n",
       "</tr>\n",
       "<tr>\n",
       "  <th>C(gender)[T.1]</th>     <td>   -0.0146</td> <td>    0.049</td> <td>   -0.301</td> <td> 0.764</td> <td>   -0.110</td> <td>    0.081</td>\n",
       "</tr>\n",
       "<tr>\n",
       "  <th>recency</th>            <td>    0.1127</td> <td>    0.024</td> <td>    4.657</td> <td> 0.000</td> <td>    0.065</td> <td>    0.160</td>\n",
       "</tr>\n",
       "<tr>\n",
       "  <th>Social_Class_Score</th> <td>    0.0051</td> <td>    0.022</td> <td>    0.228</td> <td> 0.820</td> <td>   -0.039</td> <td>    0.049</td>\n",
       "</tr>\n",
       "<tr>\n",
       "  <th>lor</th>                <td>   -0.1388</td> <td>    0.028</td> <td>   -4.954</td> <td> 0.000</td> <td>   -0.194</td> <td>   -0.084</td>\n",
       "</tr>\n",
       "</table>\n",
       "<table class=\"simpletable\">\n",
       "<tr>\n",
       "  <th>Omnibus:</th>       <td>2222.388</td> <th>  Durbin-Watson:     </th> <td>   0.173</td>\n",
       "</tr>\n",
       "<tr>\n",
       "  <th>Prob(Omnibus):</th>  <td> 0.000</td>  <th>  Jarque-Bera (JB):  </th> <td>  49.961</td>\n",
       "</tr>\n",
       "<tr>\n",
       "  <th>Skew:</th>           <td>-0.060</td>  <th>  Prob(JB):          </th> <td>1.42e-11</td>\n",
       "</tr>\n",
       "<tr>\n",
       "  <th>Kurtosis:</th>       <td> 1.273</td>  <th>  Cond. No.          </th> <td>    2.92</td>\n",
       "</tr>\n",
       "</table><br/><br/>Notes:<br/>[1] Standard Errors assume that the covariance matrix of the errors is correctly specified."
      ],
      "text/plain": [
       "<class 'statsmodels.iolib.summary.Summary'>\n",
       "\"\"\"\n",
       "                            OLS Regression Results                            \n",
       "==============================================================================\n",
       "Dep. Variable:                  churn   R-squared:                       0.079\n",
       "Model:                            OLS   Adj. R-squared:                  0.069\n",
       "Method:                 Least Squares   F-statistic:                     8.444\n",
       "Date:                Mon, 17 Oct 2022   Prob (F-statistic):           1.52e-06\n",
       "Time:                        16:54:11   Log-Likelihood:                -273.91\n",
       "No. Observations:                 400   AIC:                             557.8\n",
       "Df Residuals:                     395   BIC:                             577.8\n",
       "Df Model:                           4                                         \n",
       "Covariance Type:            nonrobust                                         \n",
       "======================================================================================\n",
       "                         coef    std err          t      P>|t|      [0.025      0.975]\n",
       "--------------------------------------------------------------------------------------\n",
       "Intercept              0.4865      0.035     14.022      0.000       0.418       0.555\n",
       "C(gender)[T.1]        -0.0146      0.049     -0.301      0.764      -0.110       0.081\n",
       "recency                0.1127      0.024      4.657      0.000       0.065       0.160\n",
       "Social_Class_Score     0.0051      0.022      0.228      0.820      -0.039       0.049\n",
       "lor                   -0.1388      0.028     -4.954      0.000      -0.194      -0.084\n",
       "==============================================================================\n",
       "Omnibus:                     2222.388   Durbin-Watson:                   0.173\n",
       "Prob(Omnibus):                  0.000   Jarque-Bera (JB):               49.961\n",
       "Skew:                          -0.060   Prob(JB):                     1.42e-11\n",
       "Kurtosis:                       1.273   Cond. No.                         2.92\n",
       "==============================================================================\n",
       "\n",
       "Notes:\n",
       "[1] Standard Errors assume that the covariance matrix of the errors is correctly specified.\n",
       "\"\"\""
      ]
     },
     "execution_count": 39,
     "metadata": {},
     "output_type": "execute_result"
    }
   ],
   "source": [
    "# fitting a normal linear regression model\n",
    "nor_reg = smf.ols(\"churn ~ recency + C(gender) + Social_Class_Score + lor\", data=churndata).fit()\n",
    "nor_reg.summary()"
   ]
  },
  {
   "cell_type": "markdown",
   "id": "db3f061e",
   "metadata": {},
   "source": [
    "The coefficeint of `C(gender)[T.1]` corresponds to level 1 of variable Gender which is \"male\". In case of having categorical predictors, the model is formulated separately for all different levels of that variable. Here we have:\n",
    "\n",
    "For male customrs:    `churn = 0.49 - 0.01 + 0.11*recency + 0.01*Social_Class_Score - 0.14*lor`\n",
    "\n",
    "For female customrs:  `churn = 0.49 + 0.11*recency + 0.01*Social_Class_Score - 0.14*lor`\n"
   ]
  },
  {
   "cell_type": "markdown",
   "id": "0caa1adc",
   "metadata": {},
   "source": [
    "Just to show how a normal linear model is not appropriate in this case, we plot the response variable against one of the predictors, recency, with a normal linear regression line. You see the response only takes 0,1 and the line is not explaining that very well. "
   ]
  },
  {
   "cell_type": "code",
   "execution_count": 74,
   "id": "cadebad4",
   "metadata": {},
   "outputs": [
    {
     "data": {
      "image/png": "[encoded data removed]",
      "text/plain": [
       "<Figure size 432x288 with 1 Axes>"
      ]
     },
     "metadata": {
      "needs_background": "light"
     },
     "output_type": "display_data"
    }
   ],
   "source": [
    "sns.scatterplot(x=\"recency\", y=\"churn\", data=churndata)\n",
    "plt.axline(xy1=(0, nor_reg.params[0]), slope=nor_reg.params[1])\n",
    "plt.show()"
   ]
  },
  {
   "cell_type": "markdown",
   "id": "f2c065c3",
   "metadata": {},
   "source": [
    "### Binary linear regression (logistic regression)\n",
    "\n",
    "We can fit a model to this data that technically is still a linear model but we need to specify that the reponse variable is from a Binary (0/1) distribution. Therefore, we use the `logit` function from `statsmodels.formula.api`. "
   ]
  },
  {
   "cell_type": "code",
   "execution_count": 3,
   "id": "ef355077",
   "metadata": {},
   "outputs": [
    {
     "name": "stdout",
     "output_type": "stream",
     "text": [
      "Optimization terminated successfully.\n",
      "         Current function value: 0.651007\n",
      "         Iterations 5\n"
     ]
    },
    {
     "data": {
      "text/html": [
       "<table class=\"simpletable\">\n",
       "<caption>Logit Regression Results</caption>\n",
       "<tr>\n",
       "  <th>Dep. Variable:</th>         <td>churn</td>      <th>  No. Observations:  </th>  <td>   400</td>  \n",
       "</tr>\n",
       "<tr>\n",
       "  <th>Model:</th>                 <td>Logit</td>      <th>  Df Residuals:      </th>  <td>   395</td>  \n",
       "</tr>\n",
       "<tr>\n",
       "  <th>Method:</th>                 <td>MLE</td>       <th>  Df Model:          </th>  <td>     4</td>  \n",
       "</tr>\n",
       "<tr>\n",
       "  <th>Date:</th>            <td>Thu, 12 Oct 2023</td> <th>  Pseudo R-squ.:     </th>  <td>0.06080</td> \n",
       "</tr>\n",
       "<tr>\n",
       "  <th>Time:</th>                <td>15:42:45</td>     <th>  Log-Likelihood:    </th> <td> -260.40</td> \n",
       "</tr>\n",
       "<tr>\n",
       "  <th>converged:</th>             <td>True</td>       <th>  LL-Null:           </th> <td> -277.26</td> \n",
       "</tr>\n",
       "<tr>\n",
       "  <th>Covariance Type:</th>     <td>nonrobust</td>    <th>  LLR p-value:       </th> <td>8.537e-07</td>\n",
       "</tr>\n",
       "</table>\n",
       "<table class=\"simpletable\">\n",
       "<tr>\n",
       "           <td></td>             <th>coef</th>     <th>std err</th>      <th>z</th>      <th>P>|z|</th>  <th>[0.025</th>    <th>0.975]</th>  \n",
       "</tr>\n",
       "<tr>\n",
       "  <th>Intercept</th>          <td>   -0.0827</td> <td>    0.151</td> <td>   -0.547</td> <td> 0.585</td> <td>   -0.379</td> <td>    0.214</td>\n",
       "</tr>\n",
       "<tr>\n",
       "  <th>C(gender)[T.1]</th>     <td>   -0.0651</td> <td>    0.210</td> <td>   -0.311</td> <td> 0.756</td> <td>   -0.476</td> <td>    0.346</td>\n",
       "</tr>\n",
       "<tr>\n",
       "  <th>recency</th>            <td>    0.5085</td> <td>    0.114</td> <td>    4.462</td> <td> 0.000</td> <td>    0.285</td> <td>    0.732</td>\n",
       "</tr>\n",
       "<tr>\n",
       "  <th>Social_Class_Score</th> <td>    0.0185</td> <td>    0.096</td> <td>    0.193</td> <td> 0.847</td> <td>   -0.169</td> <td>    0.206</td>\n",
       "</tr>\n",
       "<tr>\n",
       "  <th>lor</th>                <td>   -0.6434</td> <td>    0.140</td> <td>   -4.607</td> <td> 0.000</td> <td>   -0.917</td> <td>   -0.370</td>\n",
       "</tr>\n",
       "</table>"
      ],
      "text/latex": [
       "\\begin{center}\n",
       "\\begin{tabular}{lclc}\n",
       "\\toprule\n",
       "\\textbf{Dep. Variable:}       &      churn       & \\textbf{  No. Observations:  } &      400    \\\\\n",
       "\\textbf{Model:}               &      Logit       & \\textbf{  Df Residuals:      } &      395    \\\\\n",
       "\\textbf{Method:}              &       MLE        & \\textbf{  Df Model:          } &        4    \\\\\n",
       "\\textbf{Date:}                & Thu, 12 Oct 2023 & \\textbf{  Pseudo R-squ.:     } &  0.06080    \\\\\n",
       "\\textbf{Time:}                &     15:42:45     & \\textbf{  Log-Likelihood:    } &   -260.40   \\\\\n",
       "\\textbf{converged:}           &       True       & \\textbf{  LL-Null:           } &   -277.26   \\\\\n",
       "\\textbf{Covariance Type:}     &    nonrobust     & \\textbf{  LLR p-value:       } & 8.537e-07   \\\\\n",
       "\\bottomrule\n",
       "\\end{tabular}\n",
       "\\begin{tabular}{lcccccc}\n",
       "                              & \\textbf{coef} & \\textbf{std err} & \\textbf{z} & \\textbf{P$> |$z$|$} & \\textbf{[0.025} & \\textbf{0.975]}  \\\\\n",
       "\\midrule\n",
       "\\textbf{Intercept}            &      -0.0827  &        0.151     &    -0.547  &         0.585        &       -0.379    &        0.214     \\\\\n",
       "\\textbf{C(gender)[T.1]}       &      -0.0651  &        0.210     &    -0.311  &         0.756        &       -0.476    &        0.346     \\\\\n",
       "\\textbf{recency}              &       0.5085  &        0.114     &     4.462  &         0.000        &        0.285    &        0.732     \\\\\n",
       "\\textbf{Social\\_Class\\_Score} &       0.0185  &        0.096     &     0.193  &         0.847        &       -0.169    &        0.206     \\\\\n",
       "\\textbf{lor}                  &      -0.6434  &        0.140     &    -4.607  &         0.000        &       -0.917    &       -0.370     \\\\\n",
       "\\bottomrule\n",
       "\\end{tabular}\n",
       "%\\caption{Logit Regression Results}\n",
       "\\end{center}"
      ],
      "text/plain": [
       "<class 'statsmodels.iolib.summary.Summary'>\n",
       "\"\"\"\n",
       "                           Logit Regression Results                           \n",
       "==============================================================================\n",
       "Dep. Variable:                  churn   No. Observations:                  400\n",
       "Model:                          Logit   Df Residuals:                      395\n",
       "Method:                           MLE   Df Model:                            4\n",
       "Date:                Thu, 12 Oct 2023   Pseudo R-squ.:                 0.06080\n",
       "Time:                        15:42:45   Log-Likelihood:                -260.40\n",
       "converged:                       True   LL-Null:                       -277.26\n",
       "Covariance Type:            nonrobust   LLR p-value:                 8.537e-07\n",
       "======================================================================================\n",
       "                         coef    std err          z      P>|z|      [0.025      0.975]\n",
       "--------------------------------------------------------------------------------------\n",
       "Intercept             -0.0827      0.151     -0.547      0.585      -0.379       0.214\n",
       "C(gender)[T.1]        -0.0651      0.210     -0.311      0.756      -0.476       0.346\n",
       "recency                0.5085      0.114      4.462      0.000       0.285       0.732\n",
       "Social_Class_Score     0.0185      0.096      0.193      0.847      -0.169       0.206\n",
       "lor                   -0.6434      0.140     -4.607      0.000      -0.917      -0.370\n",
       "======================================================================================\n",
       "\"\"\""
      ]
     },
     "execution_count": 3,
     "metadata": {},
     "output_type": "execute_result"
    }
   ],
   "source": [
    "# Fitting a logistic regression model\n",
    "log_reg = smf.logit(\"churn ~ recency + C(gender) + Social_Class_Score + lor\", data=churndata).fit()\n",
    "log_reg.summary()"
   ]
  },
  {
   "cell_type": "markdown",
   "id": "74a96e4c",
   "metadata": {},
   "source": [
    "Summary of the model is similar to that of a normal regression. The predictors `recency` and `lor` have significant coefficients in the model. However, the interpretation of the coefficients is different from that of a normal linear model because a [logistic function](https://en.wikipedia.org/wiki/Logistic_function) is involved in this model to fit a curve to the response variable based on the predictors. \n",
    "\n",
    "The general formula of a logistic model with two predictors is: log(P(Y=1)/P(Y=0)) = a + b_1* x_1 + b_2* X_2\n",
    "\n",
    "log(P(Y=1)/P(Y=0)) is the log-odds or logit of the probability that the dependent variable Y takes on the value 1 (success or the event of interest) relative to the probability that it takes on the value 0 (failure or the complement of the event of interest). P(Y=1)/P(Y=0) is the odds of Y taking place.\n",
    "\n",
    "\n",
    "In a logistic regression, we need to calculate the [Odds Ratio](https://en.wikipedia.org/wiki/Odds_ratio) of predictors by taking `exp` of their coefficients. Then:\n",
    "\n",
    "- OR=1 implies that a one-unit change in X_i has no effect on the odds of the event occurring. In other words, X_i has no influence on the event's probability.\n",
    "- OR>1  suggests that a one-unit increase in X_i is associated with an increase in the odds of the event occurring. The larger the OR, the greater the impact. (With one unit increase in X_i, the odds of the response occuring multiplies by exp(b_i), and in this case b_i is positive).\n",
    "- OR<1  indicates that a one-unit increase in X_i is associated with a decrease in the odds of the event occurring. The closer the OR is to 0, the stronger the negative impact. (With one unit increase in X_i, the odds of the response occuring multiplies by exp(b_i), and in this case b_i is negative.)"
   ]
  },
  {
   "cell_type": "code",
   "execution_count": 5,
   "id": "aa3bba70",
   "metadata": {},
   "outputs": [
    {
     "name": "stdout",
     "output_type": "stream",
     "text": [
      "                          OR  Lower CI  Upper CI\n",
      "Intercept           0.920644  0.684444  1.238355\n",
      "C(gender)[T.1]      0.936948  0.621377  1.412783\n",
      "recency             1.662831  1.329933  2.079058\n",
      "Social_Class_Score  1.018678  0.844187  1.229236\n",
      "lor                 0.525493  0.399649  0.690964\n"
     ]
    }
   ],
   "source": [
    "# calculating Odds Ratios and their confidence intervals\n",
    "coefficients = pd.DataFrame(\n",
    "    {\n",
    "        \"OR\": log_reg.params,\n",
    "        \"Lower CI\": log_reg.conf_int()[0],\n",
    "        \"Upper CI\": log_reg.conf_int()[1],\n",
    "    }\n",
    ")\n",
    "odds_ratios = np.exp(coefficients)\n",
    "print(odds_ratios)"
   ]
  },
  {
   "cell_type": "markdown",
   "id": "10c51fcd",
   "metadata": {},
   "source": [
    "The predictors `recency` and `lor` have significant coefficients in this model. OR of `recency` (number of days since last purchase) is larger than 1, it means that increasing this predictor increases the odds of response being equal to 1 or customer churning (closing their accounts). OR of `lor` (length of relationship with the customer) is smaller than 1, it means that increasing this predictor decreases the odds of response being equal to 1 or customer churning (closing their accounts). "
   ]
  },
  {
   "cell_type": "markdown",
   "id": "16a6705b",
   "metadata": {},
   "source": [
    "## Model assessment"
   ]
  },
  {
   "cell_type": "markdown",
   "id": "aa8f2ff8",
   "metadata": {},
   "source": [
    "The model assessment methods we discussed for normal linear regression, don't usually apply here. Instead we explore how good our model predicts the binary (0/1) response variable. We will use the `predict` function, which predicts the probability of the response being equal to 1. Then if this probability is larger than 0.5, the prediction is 1 and if it is smaller than or equal to 0.5, the prediction is 0. This way we predict the response variable in 0 and 1. (It is possible to change the threshold of 0.5 to another value to maximise the prediction accuracy of the model, using [Roc curves](https://en.wikipedia.org/wiki/Receiver_operating_characteristic)). "
   ]
  },
  {
   "cell_type": "markdown",
   "id": "5d4fb539",
   "metadata": {},
   "source": [
    "We apply `predict` to all the  observations, and report howmany 0s have been predicted as 0 or 1, and howmany 1s have been predicted as 0 or 1."
   ]
  },
  {
   "cell_type": "code",
   "execution_count": 6,
   "id": "25e2a900",
   "metadata": {},
   "outputs": [
    {
     "name": "stdout",
     "output_type": "stream",
     "text": [
      "actual_response  predicted_response\n",
      "0                0.0                   102\n",
      "                 1.0                    98\n",
      "1                0.0                    55\n",
      "                 1.0                   145\n",
      "dtype: int64\n"
     ]
    }
   ],
   "source": [
    "actual_response = churndata[\"churn\"]\n",
    "predicted_response = np.round(log_reg.predict()) # <=0.5 -> 0\n",
    "outcomes = pd.DataFrame({\"actual_response\": actual_response, \"predicted_response\": predicted_response})\n",
    "print(outcomes.value_counts(sort=False))"
   ]
  },
  {
   "cell_type": "markdown",
   "id": "aea9e4a9",
   "metadata": {},
   "source": [
    "### Confusion matrix\n",
    "We can also calculate the Specificity, Sensitivity, False Positive and False Negative of the model's prediction. The function `pred_table` provides the frequencies we generated before, in a matrix, called a confusion matrix. This model has correctly predicted 62% of the response variable observations, and performs better in predicting true positives than true negatives."
   ]
  },
  {
   "cell_type": "code",
   "execution_count": 7,
   "id": "e4def65a",
   "metadata": {},
   "outputs": [
    {
     "name": "stdout",
     "output_type": "stream",
     "text": [
      "[[102.  98.]\n",
      " [ 55. 145.]]\n"
     ]
    }
   ],
   "source": [
    "conf_matrix = log_reg.pred_table()\n",
    "print(conf_matrix)"
   ]
  },
  {
   "cell_type": "code",
   "execution_count": 9,
   "id": "b478c978",
   "metadata": {},
   "outputs": [
    {
     "data": {
      "text/plain": [
       "[102.0, 145.0, 55.0, 98.0]"
      ]
     },
     "execution_count": 9,
     "metadata": {},
     "output_type": "execute_result"
    }
   ],
   "source": [
    "TN = conf_matrix[0,0] #true negatives\n",
    "TP = conf_matrix[1,1] #true positives\n",
    "FN = conf_matrix[1,0] #false negatives\n",
    "FP = conf_matrix[0,1] #false positive\n",
    "[TN, TP, FN, FP]"
   ]
  },
  {
   "cell_type": "code",
   "execution_count": 10,
   "id": "c4b4134c",
   "metadata": {},
   "outputs": [
    {
     "name": "stdout",
     "output_type": "stream",
     "text": [
      "accuracy:  0.6175\n",
      "sensitivity:  0.725\n",
      "specificity:  0.51\n"
     ]
    }
   ],
   "source": [
    "accuracy = (TN + TP) / (TN + TP + FN + FP) # accuracy of model's prediction\n",
    "sensitivity = TP / (FN + TP) # sensitivity of the model-the proportion of actual positive cases that were correctly identified by the model.\n",
    "specificity = TN / (TN + FP) # specificity of the model-the proportion of actual negative cases that were correctly identified by the model\n",
    "print(\"accuracy: \", accuracy)\n",
    "print(\"sensitivity: \", sensitivity) \n",
    "print(\"specificity: \", specificity) "
   ]
  },
  {
   "cell_type": "markdown",
   "id": "8de6ce49",
   "metadata": {},
   "source": [
    "### Train and Test data and Cross Validation"
   ]
  },
  {
   "cell_type": "markdown",
   "id": "8564e973",
   "metadata": {},
   "source": [
    "Here we fitted a model to all the 400 observations and predicted the same 400 observations to assess the prediction power of the model. However, in practice it is common to split the data into two groups of Training and Testing. For example 80% of the dataset could be randomly selected as the Training part and the other 20% could be the Testing part. Then the model is built only using the training data. Afterwards, the model is used for predicting the response variable in the testing part of the dataset. This way the model predicts values that were not fed into it in the model-making step and therefore provides a better measurement of how good its prediction power is.  \n",
    "\n",
    "This process can be further improved in k-fold [Cross Validation](https://en.wikipedia.org/wiki/Cross-validation_(statistics). \"In k-fold cross-validation, the original sample is randomly partitioned into k equal-sized subsamples. Of the k subsamples, a single subsample is retained as the validation data for testing the model, and the remaining k − 1 subsamples are used as training data. The cross-validation process is then repeated k times, with each of the k subsamples used exactly once as the validation data. \""
   ]
  }
 ],
 "metadata": {
  "kernelspec": {
   "display_name": "Python 3 (ipykernel)",
   "language": "python",
   "name": "python3"
  },
  "language_info": {
   "codemirror_mode": {
    "name": "ipython",
    "version": 3
   },
   "file_extension": ".py",
   "mimetype": "text/x-python",
   "name": "python",
   "nbconvert_exporter": "python",
   "pygments_lexer": "ipython3",
   "version": "3.9.13"
  }
 },
 "nbformat": 4,
 "nbformat_minor": 5
}
