{
 "cells": [
  {
   "cell_type": "markdown",
   "id": "3ac10fdf",
   "metadata": {},
   "source": [
    "# Insights Through Data course\n",
    "\n",
    "This course will introduce you to some fundamental aspects of Data Science, including an introduction to Statistics and Machine Learning and will guide you through making a start on understanding data analysing. To facilitate these learning outcomes we need a programming language and we are going to use _Python_ for this purpose. We will use _Jupyter notebooks_ hosted on _Noteable_ to make working with Python much smoother.\n",
    "\n",
    "# Python\n",
    "\n",
    "Python is a high-level programming language. It was created by Guido van Rossum and released in 1991. Since then it has become a very popular programming language to make web applications, create workflows alongside software, connect to database systems, do production-ready software development, and handle big data and perform complex mathematics. \n",
    "\n",
    "Python is a strong data analysing tool and offers lots of flexibility in this area via its modules. A module could be considered as a code library containing a set of functions you want to include in your application.\n",
    "\n",
    "\n",
    "# Starting with programming\n",
    "\n",
    "Starting to code can be difficult if you are not used to such tasks. In the earlier stages, you may spend lots of time figuring out what is wrong in your code and what the errors are about. This is normal and don't let that discourage you! We will do pair-programming on even weeks of the course so you can help each other. There will be plenty of time for you to ask us questions during fusion or online teaching and discussion sessions. Please make sure that you do ask us for help if you need it.\n",
    "\n",
    "# Noteable\n",
    "\n",
    "Noteable is simply the university's service that hosts your computational notebooks in one simple online hub. We will be using Python (notebooks) on Noteable, instead of installing Python on your computers, because it makes the logistics much easier.\n",
    "\n",
    "# Jupyter\n",
    "\n",
    "A Jupyter notebook is this current web-based interface that looks like a notebook and has text and code together. The code we write here is in Python language. The code and text are live here, meaning that you can run and edit them. To edit any block of text or code, double-click on it.\n",
    "\n",
    "## Text\n",
    "\n",
    "You can edit these text boxes or write your own notes and descriptions throughout the course by adding new blocks/boxes or cells. To do this click on the plus button above, then from the drop-down menu choose `markdown`. \n",
    "\n",
    "To learn more about how to format your text see [Markdown Cheatsheet](https://github.com/adam-p/markdown-here/wiki/Markdown-Cheatsheet).\n",
    "\n",
    "\n",
    "## Code\n",
    "\n",
    "To write Python code, you need to add a new cell and set the drop-down menu on `code`. After writing your code in the block, click the `Run` button in the toolbar near the top of the window. Or you can click on the block and then press `Enter + Shift`. \n",
    "\n",
    "Let's try it. The block below has a Python code in it which is a command to print two words. Run this code and see the output."
   ]
  },
  {
   "cell_type": "code",
   "execution_count": null,
   "id": "a289b0d5",
   "metadata": {},
   "outputs": [],
   "source": [
    "print(\"Hello World\")"
   ]
  },
  {
   "cell_type": "markdown",
   "id": "f85a0faa",
   "metadata": {},
   "source": [
    "Congratulations! you just successfully executed your first Python code. \"Hello World\" is the first program one usually writes when learning a new programming language. The `\" \"` around the text is required to mark the text as a `srting` of characters. Try editing the code above, removing the `\" \"` and running it again to see what happens.\n",
    "\n",
    "Now run the code below. It prints \"The Zen of Python\"."
   ]
  },
  {
   "cell_type": "code",
   "execution_count": null,
   "id": "3d7cc8e0",
   "metadata": {},
   "outputs": [],
   "source": [
    "import this"
   ]
  },
  {
   "cell_type": "markdown",
   "id": "711b2f59",
   "metadata": {},
   "source": [
    "## Menu bar\n",
    "\n",
    "The menu bar on top of the page includes some useful operational tools. The most useful ones are:\n",
    "\n",
    "- **+**: This is used to add a new block or cell (of text or code)\n",
    "- **Run**: To run code or text in a cell. You can also press `Shift+Enter` on your keyboard.\n",
    "- **Save**: To save the notebook click on the small disk icon. Always do that before leaving your notebook.\n",
    "- **Clearing all code output**: Go to `Kernel -> Restart & Clear output`\n",
    "- **Deleting a cell**: Go to `Edit -> Delete Cell` or press `D+D`on your keyboard.\n",
    "- **Saving a notebook locally to your own computer**: Go to `File -> Download As -> Notebook(.ipynb)`.\n",
    "- **Closing**: It is not recommended to close a notebook just by closing the window. You should close it from the toolbar `File -> Close and Halt`.\n",
    "- **cut, copy, paste**: To use on text, code, or cells.\n",
    "- **Stop**: Or \"interrupt the kenrnel\" to stop the notebook from doing calculations if it is taking too long because of a coding mistake."
   ]
  },
  {
   "cell_type": "markdown",
   "id": "83c58415",
   "metadata": {},
   "source": [
    "# First steps in Python\n",
    "\n",
    "Let's do some basic programming in Python. Run the code below which simply adds two numbers 345 and 55 together."
   ]
  },
  {
   "cell_type": "code",
   "execution_count": null,
   "id": "8444c679",
   "metadata": {},
   "outputs": [],
   "source": [
    "345+55"
   ]
  },
  {
   "cell_type": "markdown",
   "id": "99e40c48",
   "metadata": {},
   "source": [
    "Double-click on the code above and add another number to the code, for example 267. Run the code again.\n",
    "\n",
    "Notice each time you run the cell the number next to it changes. Don't worry about that it just counts the number of inputs made to python so far in a session.\n",
    "\n",
    "A better way to get the output from a command is to use the `print` function, just to make the output to the screen nicer, so the code above would look like this, run it and notice the difference:"
   ]
  },
  {
   "cell_type": "code",
   "execution_count": null,
   "id": "ade74f0f",
   "metadata": {},
   "outputs": [],
   "source": [
    "print(345+55)"
   ]
  },
  {
   "cell_type": "markdown",
   "id": "cf93c898",
   "metadata": {},
   "source": [
    "1. **Python as a calculator**: Python can be used as a calculator for simple arithmetical operations. See some of them in the table below:\n",
    "\n",
    "| Symbol | Task  | Example | Result\n",
    "|----|---|---|---|\n",
    "| +  | Addition | 4 + 3 | 7 |\n",
    "| -  | Subtraction | 4 - 3 | 1 |\n",
    "| /  | Division | 7 / 2 | 3.5 |\n",
    "| *  | Multiplication | 4 * 3 | 12 |\n",
    "| **  | Power of | 7 ** 2 | 49 |\n",
    "\n",
    "Let's try them:\n"
   ]
  },
  {
   "cell_type": "code",
   "execution_count": null,
   "id": "157b1256",
   "metadata": {},
   "outputs": [],
   "source": [
    "print(51/7)\n",
    "print(round(51/7, 2))\n",
    "print(21*21)\n",
    "print(2**5)"
   ]
  },
  {
   "cell_type": "markdown",
   "id": "245900e3",
   "metadata": {},
   "source": [
    "The function/command `round`, rounds up a number to as many demical places as we want, for example, 2,3,... .\n"
   ]
  },
  {
   "cell_type": "markdown",
   "id": "8ac2473b",
   "metadata": {},
   "source": [
    "\n",
    "2. **Assigning values to variables:** The assignment operator, “=” symbol, is used to assign values (numbers or characters) to variables in Python. \n",
    "\n",
    "The code below takes the value 20, and assigns that value to the variable with name “x”. After executing this line, this number will be stored into this variable. "
   ]
  },
  {
   "cell_type": "code",
   "execution_count": null,
   "id": "8397a845",
   "metadata": {},
   "outputs": [],
   "source": [
    "x = 20"
   ]
  },
  {
   "cell_type": "markdown",
   "id": "ae2b6407",
   "metadata": {},
   "source": [
    "Now call the variable \"x\" to see the value that was assigned to it (note that Python differentiates between lower case and upper case letters, so x and X are not the same thing). "
   ]
  },
  {
   "cell_type": "code",
   "execution_count": null,
   "id": "3dee955c",
   "metadata": {},
   "outputs": [],
   "source": [
    "x"
   ]
  },
  {
   "cell_type": "markdown",
   "id": "a9a81709",
   "metadata": {},
   "source": [
    "What do you think the output of the code below is? Run it and see if you got it right."
   ]
  },
  {
   "cell_type": "code",
   "execution_count": null,
   "id": "773d5c48",
   "metadata": {},
   "outputs": [],
   "source": [
    "x = \"Python \"\n",
    "y = \"is \"\n",
    "z = \"awesome\"\n",
    "print(x + y + z)"
   ]
  },
  {
   "cell_type": "markdown",
   "id": "e4955f68",
   "metadata": {},
   "source": [
    "3. **Indentation**: Indentation, the spaces at the beginning of a code line, is very important in Python. Python uses it to indicate a block of code. \n",
    "\n",
    "Run the code below. You should get an error. Try removing the space at the beginning of the second line and running it again."
   ]
  },
  {
   "cell_type": "code",
   "execution_count": null,
   "id": "b7e2f778",
   "metadata": {},
   "outputs": [],
   "source": [
    "sentence = \"This is a text!\"\n",
    " print(sentence)"
   ]
  },
  {
   "cell_type": "markdown",
   "id": "782b3108",
   "metadata": {},
   "source": [
    "4. **Python modules**\n",
    "\n",
    "We can consider a module to be the same as a code library or a package that contains a set of functions that you want to include in your data analysing work. Python has many modules and we will be using only a few of them. \n",
    "\n",
    "\n",
    "Some of the modules we will use in this course are:\n",
    "\n",
    "**pandas**: for data structures and data analysis tools  [documentation](https://pandas.pydata.org/docs/getting_started/index.html#getting-started)\n",
    "\n",
    "**NumPy**: to perform a wide variety of mathematical operations on numerical data  [documentation](https://numpy.org/doc/stable/user/absolute_beginners.html)\n",
    "\n",
    "**matplotlib**: for data visualisation and plotting [tutorials](https://matplotlib.org/stable/tutorials/index.html)\n",
    "\n",
    "**seaborn**: it provides a high-level interface for drawing attractive and informative statistical graphics [gallery](http://seaborn.pydata.org/examples/index.html) \n",
    "\n",
    "**statsmodels**: for fitting different statistical models [documentation](https://www.statsmodels.org/stable/index.html)\n",
    "\n",
    "When we want to use a module (and the functions in it), we need to `import` that module. Whenever you import a module once it remains loaded in the background until you reset the Jupyter kernel.\n",
    "\n",
    "To import the module NumPy, we type the code below. Note that we give it a shorter name (`np`) to be able to call its functions easier when we need them. \n"
   ]
  },
  {
   "cell_type": "code",
   "execution_count": null,
   "id": "ac5683e1",
   "metadata": {},
   "outputs": [],
   "source": [
    "import numpy as np "
   ]
  },
  {
   "cell_type": "markdown",
   "id": "96b84a9c",
   "metadata": {},
   "source": [
    "After running the code, nothing happens, right? But it is ok because the module is loaded now and we can use its functions. \n",
    "\n",
    "Let's suppose we want to do some maths with the NumPy module, and use the Sine function, which is one of this module's many functions, to work out the Sine of an angle (no worries if you don't remember much from school's trigonometry). We do that by calling the module's short name `np` followed by the function's name `sin`. \n"
   ]
  },
  {
   "cell_type": "code",
   "execution_count": null,
   "id": "13d77379",
   "metadata": {},
   "outputs": [],
   "source": [
    "np.sin(0.5)"
   ]
  },
  {
   "cell_type": "markdown",
   "id": "33cf2679",
   "metadata": {},
   "source": [
    "Let's say we have a list of integers and we want to calculate the average/mean of them. The numbers are (34,23,12,16,10,11,16,43,51,31). numpy has a function to do that called `mean`."
   ]
  },
  {
   "cell_type": "code",
   "execution_count": null,
   "id": "2df67257",
   "metadata": {},
   "outputs": [],
   "source": [
    "np.mean([34,23,12,16,10,11,16,43,51,31])"
   ]
  },
  {
   "cell_type": "markdown",
   "id": "fcdc04c8",
   "metadata": {},
   "source": [
    "5. **Commenting your code**: You can add comments to your code to explain what you have done (to yourself or others who may read your code). It is good practice and highly encouraged to comment your code so reviewing it later becomes easier for you. You can add comments after `#` sign. Anything written after this will be considered as text comment, not code. for example:"
   ]
  },
  {
   "cell_type": "code",
   "execution_count": null,
   "id": "21d680ff",
   "metadata": {},
   "outputs": [],
   "source": [
    "# This is the list of observations after an experiment\n",
    "a = [14,12,19,21,34]\n",
    "# I calculate the summation of them in a variable called sum_a\n",
    "sum_a = np.sum(a)\n",
    "sum_a"
   ]
  },
  {
   "cell_type": "markdown",
   "id": "350434ab",
   "metadata": {},
   "source": [
    "6. **Types of variables**: The main variable types we will use in Python are \"integer\", \"string\", \"float\", \"list\", and \"set\". If you are not sure about type of a variable, call function `type` to figure that out. See for example: "
   ]
  },
  {
   "cell_type": "code",
   "execution_count": null,
   "id": "c0402545",
   "metadata": {},
   "outputs": [],
   "source": [
    "a = \"It's a nice day!\"\n",
    "type(a)"
   ]
  },
  {
   "cell_type": "code",
   "execution_count": null,
   "id": "e613f0e5",
   "metadata": {},
   "outputs": [],
   "source": [
    "b = 22\n",
    "type(b)"
   ]
  },
  {
   "cell_type": "code",
   "execution_count": null,
   "id": "3cff1973",
   "metadata": {},
   "outputs": [],
   "source": [
    "c = 1.45\n",
    "type(c)"
   ]
  },
  {
   "cell_type": "code",
   "execution_count": null,
   "id": "41573c49",
   "metadata": {},
   "outputs": [],
   "source": [
    "d = [\"Monday\", \"Wednesday\", \"Friday\"]\n",
    "type(d)"
   ]
  },
  {
   "cell_type": "code",
   "execution_count": null,
   "id": "0dff6ee2",
   "metadata": {},
   "outputs": [],
   "source": [
    "e = {11, 22, 33, 44, 55}\n",
    "type(e)"
   ]
  },
  {
   "cell_type": "markdown",
   "id": "0875a7dd",
   "metadata": {},
   "source": [
    "# Excercises\n",
    "\n",
    "1. Assign the value of `2023` to variable `year`. Assign the value of your birth year to variable `birth`. Define a new variable that is `year-birth` and name it `age`. Print `age`. "
   ]
  },
  {
   "cell_type": "code",
   "execution_count": null,
   "id": "8cdc8991",
   "metadata": {},
   "outputs": [],
   "source": []
  },
  {
   "cell_type": "markdown",
   "id": "dfc9e1f9",
   "metadata": {},
   "source": [
    "2. Make a \"list\" that includes the first six months of the year (they are strings made of characters). Name this list, `first_half`. Now type and run `first_half[4]`. What is the output?\n",
    "\n",
    "**NOTE**: Python starts counting elements of a list from zero.\n",
    "\n",
    "What do you need to type so the output will be \"april\"?"
   ]
  },
  {
   "cell_type": "code",
   "execution_count": null,
   "id": "e8ab9f7a",
   "metadata": {},
   "outputs": [],
   "source": []
  }
 ],
 "metadata": {
  "kernelspec": {
   "display_name": "Python 3 (ipykernel)",
   "language": "python",
   "name": "python3"
  },
  "language_info": {
   "codemirror_mode": {
    "name": "ipython",
    "version": 3
   },
   "file_extension": ".py",
   "mimetype": "text/x-python",
   "name": "python",
   "nbconvert_exporter": "python",
   "pygments_lexer": "ipython3",
   "version": "3.9.13"
  }
 },
 "nbformat": 4,
 "nbformat_minor": 5
}
