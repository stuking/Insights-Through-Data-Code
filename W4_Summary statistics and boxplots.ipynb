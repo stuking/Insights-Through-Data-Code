{
 "cells": [
  {
   "cell_type": "markdown",
   "id": "imposed-natural",
   "metadata": {},
   "source": [
    "# Fundamentals of Statistics\n",
    "## Summary Statistics and Boxplots"
   ]
  },
  {
   "cell_type": "markdown",
   "id": "exposed-commonwealth",
   "metadata": {},
   "source": [
    "## Data\n",
    "\n",
    "The dataset we use here is taken from this [paper](https://www.nature.com/articles/sdata201919) which studies life expectancy of hundards of animals from North American zoos and aquariums. We start by importing the required modules/packages/libraries. "
   ]
  },
  {
   "cell_type": "code",
   "execution_count": null,
   "id": "adult-salvation",
   "metadata": {},
   "outputs": [],
   "source": [
    "import pandas as pd\n",
    "import numpy as np\n",
    "import matplotlib.pyplot as plt"
   ]
  },
  {
   "cell_type": "markdown",
   "id": "0776f922",
   "metadata": {},
   "source": [
    "The data file is `AZA_MLE_Jul2018.csv`. Download it from Learn and upload it on your Noteable directory in the same folder as this notebook.\n",
    "Now we read in the data which is a csv file using `pd.read_csv` and look at the first five rows of the data using `.head()`. (The format of the file is in a way that needs an extra argument `encoding='latin-1'` to be read in properly.)"
   ]
  },
  {
   "cell_type": "code",
   "execution_count": null,
   "id": "dietary-restoration",
   "metadata": {
    "scrolled": true
   },
   "outputs": [],
   "source": [
    "zooanimals = pd.read_csv(\"AZA_MLE_Jul2018.csv\", encoding='latin-1')\n",
    "zooanimals.head()"
   ]
  },
  {
   "cell_type": "markdown",
   "id": "liquid-joyce",
   "metadata": {},
   "source": [
    "The column \"Overall MLE\" shows the Median Life Expectancy for each animal. We take this column and visualise it with a histogram using the `hist` fucntion from the `matplotlib` module. "
   ]
  },
  {
   "cell_type": "code",
   "execution_count": null,
   "id": "extensive-catering",
   "metadata": {},
   "outputs": [],
   "source": [
    "all_lifexp = zooanimals[\"Overall MLE\"]\n",
    "plt.hist(all_lifexp)\n",
    "plt.show()"
   ]
  },
  {
   "cell_type": "markdown",
   "id": "disturbed-luxury",
   "metadata": {},
   "source": [
    "We are interested in the data about Mammals. So we make a subset of the dataset in which `TaxonClass == Mammalia` and call that subset \"Mammalia\" (the rows corresponding to Mammals are selected using `.loc`)."
   ]
  },
  {
   "cell_type": "code",
   "execution_count": null,
   "id": "pressed-bosnia",
   "metadata": {
    "scrolled": true
   },
   "outputs": [],
   "source": [
    "Mammalia = zooanimals.loc[zooanimals['TaxonClass'] == 'Mammalia']\n",
    "Mammalia"
   ]
  },
  {
   "cell_type": "markdown",
   "id": "satisfied-trust",
   "metadata": {},
   "source": [
    "We save the \"Overall MLE\" in a variable called `Mammalia_lifexp` and make a histogram of life expectancy values for Mammals. This time, we also add title, labels, and grid to the plot."
   ]
  },
  {
   "cell_type": "code",
   "execution_count": null,
   "id": "exact-affiliate",
   "metadata": {},
   "outputs": [],
   "source": [
    "Mammalia_lifexp = Mammalia[\"Overall MLE\"]\n",
    "plt.hist(Mammalia_lifexp)\n",
    "plt.title(\"Distribution of life expectancy of zoo mammals\")\n",
    "plt.xlabel(\"Life Expectancy\")\n",
    "plt.ylabel(\"Count\")\n",
    "plt.grid()\n",
    "plt.show()"
   ]
  },
  {
   "cell_type": "markdown",
   "id": "unexpected-salad",
   "metadata": {},
   "source": [
    "## Measurements of centre of data"
   ]
  },
  {
   "cell_type": "markdown",
   "id": "binding-biotechnology",
   "metadata": {},
   "source": [
    "### Mean\n",
    "\n",
    "The purpose is to find the mean of the life expectancy variable of the mammals. We can use the `np.mean` function to calculate this. Or sum up all the values using `np.sum` and divide them over the number of data values which is found using `len`."
   ]
  },
  {
   "cell_type": "code",
   "execution_count": null,
   "id": "prepared-stage",
   "metadata": {},
   "outputs": [],
   "source": [
    "Mammalia_mean = np.mean(Mammalia_lifexp)\n",
    "Mammalia_mean"
   ]
  },
  {
   "cell_type": "code",
   "execution_count": null,
   "id": "lyric-sussex",
   "metadata": {},
   "outputs": [],
   "source": [
    "np.sum(Mammalia_lifexp)/len(Mammalia_lifexp)"
   ]
  },
  {
   "cell_type": "markdown",
   "id": "closed-tomorrow",
   "metadata": {},
   "source": [
    "### Median\n",
    "\n",
    "In order to find median of this variable, `np.median` is used. Or we can sort all the values using `sort_values()`, which sorts the 175 values from smallest to largest. Since this number is odd,  median is the middle point which is the 88th observation out of the 175 of them (considering the index in python starts from 0, that would be the 87th element)."
   ]
  },
  {
   "cell_type": "code",
   "execution_count": null,
   "id": "dedicated-scanner",
   "metadata": {},
   "outputs": [],
   "source": [
    "np.median(Mammalia_lifexp)"
   ]
  },
  {
   "cell_type": "code",
   "execution_count": null,
   "id": "photographic-sequence",
   "metadata": {},
   "outputs": [],
   "source": [
    "Mammalia_lifexp.sort_values()"
   ]
  },
  {
   "cell_type": "code",
   "execution_count": null,
   "id": "awful-vehicle",
   "metadata": {},
   "outputs": [],
   "source": [
    "Mammalia_median = Mammalia_lifexp.sort_values().iloc[87]\n",
    "Mammalia_median"
   ]
  },
  {
   "cell_type": "markdown",
   "id": "departmental-thread",
   "metadata": {},
   "source": [
    "### Mode\n",
    "\n",
    "Life expectancy is a continous variable and mode is not informative for it. However, just to see an example of a Mode, we can find mode of the nomial variable 'TaxonClass'. The function `value_counts()` shows all the levels of this variable and their frequencies, which indicates what mode is. Or instead we can import the `statistics` module and use the `mode` function. "
   ]
  },
  {
   "cell_type": "code",
   "execution_count": null,
   "id": "processed-plaza",
   "metadata": {},
   "outputs": [],
   "source": [
    "zooanimals['TaxonClass'].value_counts()"
   ]
  },
  {
   "cell_type": "code",
   "execution_count": null,
   "id": "coastal-opening",
   "metadata": {},
   "outputs": [],
   "source": [
    "# The statistics module provides some functions to mathematical statistics of numeric data.\n",
    "import statistics\n",
    "statistics.mode(zooanimals['TaxonClass'])"
   ]
  },
  {
   "cell_type": "markdown",
   "id": "timely-university",
   "metadata": {},
   "source": [
    "We can mark these summary values in the histogram plot, using `axvline`."
   ]
  },
  {
   "cell_type": "code",
   "execution_count": null,
   "id": "analyzed-turkish",
   "metadata": {},
   "outputs": [],
   "source": [
    "plt.hist(Mammalia_lifexp)\n",
    "plt.title(\"Distribution of life expectancy of zoo mammals\")\n",
    "plt.xlabel(\"Life Expectancy\")\n",
    "plt.ylabel(\"Count\")\n",
    "plt.grid()\n",
    "plt.axvline(x=Mammalia_mean, color='k', label=\"mean\")\n",
    "plt.axvline(x=Mammalia_median, color='r', label=\"median\")\n",
    "plt.legend()\n",
    "plt.show()"
   ]
  },
  {
   "cell_type": "markdown",
   "id": "referenced-universal",
   "metadata": {},
   "source": [
    "## Measures of spread of data"
   ]
  },
  {
   "cell_type": "markdown",
   "id": "agricultural-bobby",
   "metadata": {},
   "source": [
    "### Range\n",
    "\n",
    "Finding the range of the values of a selected variable is straightforward using `sort_values()`. Or `np.ptp` can be used instead. "
   ]
  },
  {
   "cell_type": "code",
   "execution_count": null,
   "id": "violent-deadline",
   "metadata": {},
   "outputs": [],
   "source": [
    "Mammalia_lifexp.sort_values()"
   ]
  },
  {
   "cell_type": "code",
   "execution_count": null,
   "id": "97f69d9c",
   "metadata": {},
   "outputs": [],
   "source": [
    " 42 - 4.6"
   ]
  },
  {
   "cell_type": "code",
   "execution_count": null,
   "id": "activated-future",
   "metadata": {},
   "outputs": [],
   "source": [
    "np.ptp(Mammalia_lifexp)"
   ]
  },
  {
   "cell_type": "markdown",
   "id": "black-closure",
   "metadata": {},
   "source": [
    "### Variance\n",
    "\n",
    "The most important measurement of spread of the data is variance which is calculated using `np.var`."
   ]
  },
  {
   "cell_type": "code",
   "execution_count": null,
   "id": "saved-range",
   "metadata": {},
   "outputs": [],
   "source": [
    "Mammalia_var = np.var(Mammalia_lifexp, ddof=1)\n",
    "print(Mammalia_var)"
   ]
  },
  {
   "cell_type": "markdown",
   "id": "regional-orchestra",
   "metadata": {},
   "source": [
    "We can directly follow the variance formula and calculate its value by \"(1) find deviations – (2) square them – (3) sum them up – (4) devide it over n-1\". "
   ]
  },
  {
   "cell_type": "code",
   "execution_count": null,
   "id": "corporate-enhancement",
   "metadata": {},
   "outputs": [],
   "source": [
    "#1\n",
    "distance = Mammalia_lifexp - np.mean(Mammalia_lifexp)\n",
    "#2\n",
    "sq_distance = distance ** 2\n",
    "#3\n",
    "sum_sq_distance = np.sum(sq_distance)\n",
    "#4\n",
    "variance = sum_sq_distance / (len(Mammalia_lifexp)-1)\n",
    "print(variance)"
   ]
  },
  {
   "cell_type": "markdown",
   "id": "worse-participant",
   "metadata": {},
   "source": [
    "The other measurment of variation is standard deviation which is just the square root of variance. You can take square root of variance or use `np.std` function which directly calcutes the standard deviation."
   ]
  },
  {
   "cell_type": "code",
   "execution_count": null,
   "id": "manufactured-pakistan",
   "metadata": {},
   "outputs": [],
   "source": [
    "np.sqrt(Mammalia_var)"
   ]
  },
  {
   "cell_type": "code",
   "execution_count": null,
   "id": "restricted-jacksonville",
   "metadata": {},
   "outputs": [],
   "source": [
    "np.std(Mammalia_lifexp, ddof=1)"
   ]
  },
  {
   "cell_type": "code",
   "execution_count": null,
   "id": "1bbca100",
   "metadata": {},
   "outputs": [],
   "source": [
    "#the percetage of animals who live in the range (mean-st.dev, mean+st.dev) is more than 50%\n",
    "len(Mammalia_lifexp[(Mammalia_lifexp > 7.22) & (Mammalia_lifexp < 22.2)])/len(Mammalia_lifexp)"
   ]
  },
  {
   "cell_type": "markdown",
   "id": "furnished-sunglasses",
   "metadata": {},
   "source": [
    "## Quantiles and boxplots\n",
    "\n",
    "Any quantiles of the selected variable can be calculated using `np.quantile`. Usually we check the minimum, 25%, 50%, 75% and maximum of the data (quartiles of the data). "
   ]
  },
  {
   "cell_type": "code",
   "execution_count": null,
   "id": "following-footage",
   "metadata": {},
   "outputs": [],
   "source": [
    "print(np.quantile(Mammalia_lifexp, [0, 0.25, 0.5, 0.75, 1]))"
   ]
  },
  {
   "cell_type": "markdown",
   "id": "cultural-directive",
   "metadata": {},
   "source": [
    "A useful function is `describe()` which gives a descriptive summary  of the variable."
   ]
  },
  {
   "cell_type": "code",
   "execution_count": null,
   "id": "loved-genius",
   "metadata": {},
   "outputs": [],
   "source": [
    "Mammalia_lifexp.describe()"
   ]
  },
  {
   "cell_type": "markdown",
   "id": "committed-velvet",
   "metadata": {},
   "source": [
    "A \"boxplot\" is a very informative way of showing the quartiles and spread of data. The function `boxplot` in `matplotlib` module is used below."
   ]
  },
  {
   "cell_type": "code",
   "execution_count": null,
   "id": "dominant-solomon",
   "metadata": {
    "scrolled": true
   },
   "outputs": [],
   "source": [
    "plt.boxplot(Mammalia_lifexp)\n",
    "plt.xlabel(\"Mammalia\")\n",
    "plt.ylabel(\"Life expectancy\")\n",
    "plt.show()"
   ]
  },
  {
   "cell_type": "markdown",
   "id": "liked-rouge",
   "metadata": {},
   "source": [
    "### Outliers\n",
    "\n",
    "The boxplot shows that there are a few outliers in the variable, shown with small circles. We can investigate the data and find out which animals are outliers corresponsing to this variable. The interquantile range is directly calculated using `iqr` function from `scipy.stats` module. Then the upper and lower threshold of the data are calculated. Any data element smaller than the lower threshold `or` larger than the upper threshold are outliers. "
   ]
  },
  {
   "cell_type": "code",
   "execution_count": null,
   "id": "molecular-cassette",
   "metadata": {},
   "outputs": [],
   "source": [
    "from scipy.stats import iqr\n",
    "IQR = iqr(Mammalia_lifexp)\n",
    "lower_threshold = np.quantile(Mammalia_lifexp, 0.25) - 1.5 * IQR\n",
    "upper_threshold = np.quantile(Mammalia_lifexp, 0.75) + 1.5 * IQR\n",
    "outliers = Mammalia_lifexp[(Mammalia_lifexp < lower_threshold) | (Mammalia_lifexp > upper_threshold)]\n",
    "print(outliers)"
   ]
  },
  {
   "cell_type": "markdown",
   "id": "76d948cc",
   "metadata": {},
   "source": [
    "The lower and upper thresholds are:"
   ]
  },
  {
   "cell_type": "code",
   "execution_count": null,
   "id": "extraordinary-craft",
   "metadata": {},
   "outputs": [],
   "source": [
    "print(lower_threshold, upper_threshold)"
   ]
  },
  {
   "cell_type": "markdown",
   "id": "threaded-proposal",
   "metadata": {},
   "source": [
    "Extract rows of the dataset corresponding to the outliers."
   ]
  },
  {
   "cell_type": "code",
   "execution_count": null,
   "id": "lesbian-arbor",
   "metadata": {},
   "outputs": [],
   "source": [
    "Mammalia.loc[Mammalia[\"Overall MLE\"] > upper_threshold]"
   ]
  },
  {
   "cell_type": "markdown",
   "id": "built-status",
   "metadata": {},
   "source": [
    "# Exercises"
   ]
  },
  {
   "cell_type": "markdown",
   "id": "brave-columbus",
   "metadata": {},
   "source": [
    "1. Let's focus on birds in this data set. Make a subset of the data in which `TaxonClass == Aves` (Aves animals are mainly birds). Take the column `Overall MLE` of the data which contains birds life expectancy and name it `birds_lifexp`. Since this column has some NaN values (missing values) use `birds_lifexp = birds_lifexp.dropna()` to drop them. Make a histogram of the life expectancy of birds."
   ]
  },
  {
   "cell_type": "code",
   "execution_count": null,
   "id": "extra-display",
   "metadata": {},
   "outputs": [],
   "source": []
  },
  {
   "cell_type": "markdown",
   "id": "immediate-burton",
   "metadata": {},
   "source": [
    "2. Calculate the summary statistics for the birds life expectancy. That is, measurments of centre of the data (mean, mode) and spread of data (range, variance, standard deviation)."
   ]
  },
  {
   "cell_type": "code",
   "execution_count": null,
   "id": "encouraging-sensitivity",
   "metadata": {},
   "outputs": [],
   "source": []
  },
  {
   "cell_type": "markdown",
   "id": "covered-pencil",
   "metadata": {},
   "source": [
    "3. Make a boxplot of  the birds life expectancy."
   ]
  },
  {
   "cell_type": "code",
   "execution_count": null,
   "id": "brutal-equivalent",
   "metadata": {},
   "outputs": [],
   "source": []
  },
  {
   "cell_type": "markdown",
   "id": "indirect-miracle",
   "metadata": {},
   "source": [
    "4. The boxplot shows some outliers. Find what birds are outliers in terms of their life expectancy."
   ]
  },
  {
   "cell_type": "code",
   "execution_count": null,
   "id": "numeric-responsibility",
   "metadata": {},
   "outputs": [],
   "source": []
  },
  {
   "cell_type": "markdown",
   "id": "other-front",
   "metadata": {},
   "source": [
    "5. Write a paragraph and compare the life expectancy of mammals and birds."
   ]
  },
  {
   "cell_type": "markdown",
   "id": "659fb169",
   "metadata": {},
   "source": []
  }
 ],
 "metadata": {
  "kernelspec": {
   "display_name": "Python 3 (ipykernel)",
   "language": "python",
   "name": "python3"
  },
  "language_info": {
   "codemirror_mode": {
    "name": "ipython",
    "version": 3
   },
   "file_extension": ".py",
   "mimetype": "text/x-python",
   "name": "python",
   "nbconvert_exporter": "python",
   "pygments_lexer": "ipython3",
   "version": "3.9.13"
  }
 },
 "nbformat": 4,
 "nbformat_minor": 5
}
