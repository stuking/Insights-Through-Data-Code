{
 "cells": [
  {
   "cell_type": "markdown",
   "id": "welcome-preservation",
   "metadata": {},
   "source": [
    "# Fundamentals of Statistics\n",
    "\n",
    "## Checking model assumptions and assessment of goodness-of-fit"
   ]
  },
  {
   "cell_type": "markdown",
   "id": "insured-source",
   "metadata": {},
   "source": [
    "## Data\n",
    "\n",
    "This dataset is from the [World Happiness Report](https://worldhappiness.report/ed/2018/). The report uses six key variables to measure happiness differences: “income, healthy life expectancy, having someone to count on in times of trouble, generosity, freedom and trust, with the latter measured by the absence of corruption in business and government.”\n",
    "The Happiness Index is an indication of happiness based on survey results, that was first used in the 2012 World Happiness Report. In the survey, the respondents were asked to rate their happiness on a scale from 0 to 10. The Happiness Index is calculated by averaging the survey results of the respondents. \n",
    "\n",
    "We import the required modules and then read in the data which is in an Excel file. We make a subset of the data for the 2018, `Year == 2018`, and choose only the first 12 columns/variables. Since the data includes many missing values shown with NaN (Not a Number), the `dropna()` function is used to drop the rows where at least one element is missing."
   ]
  },
  {
   "cell_type": "code",
   "execution_count": null,
   "id": "assured-hughes",
   "metadata": {},
   "outputs": [],
   "source": [
    "import pandas as pd\n",
    "import numpy as np\n",
    "import matplotlib.pyplot as plt\n",
    "import seaborn as sns"
   ]
  },
  {
   "cell_type": "code",
   "execution_count": null,
   "id": "statistical-reconstruction",
   "metadata": {},
   "outputs": [],
   "source": [
    "happyness = pd.read_excel(\"Chapter2OnlineData.xls\")\n",
    "happy_2018 = happyness.loc[(happyness['Year'] == 2018)] \n",
    "happy_2018 = happy_2018.iloc[0:136, 0:11]\n",
    "happy_2018 = happy_2018.dropna()\n",
    "happy_2018"
   ]
  },
  {
   "cell_type": "markdown",
   "id": "bibliographic-maker",
   "metadata": {},
   "source": [
    "## Linear Regression Model"
   ]
  },
  {
   "cell_type": "markdown",
   "id": "visible-swimming",
   "metadata": {},
   "source": [
    "### Regression model for Life Ladder as the response variable and Social Support as the predictor\n",
    "\n",
    "The `lmplot` from Seaborn module makes a scatter plot with a regression line fitted to the variables. "
   ]
  },
  {
   "cell_type": "code",
   "execution_count": null,
   "id": "canadian-medicine",
   "metadata": {},
   "outputs": [],
   "source": [
    "sns.lmplot(data=happy_2018, x=\"Social support\", y=\"Life Ladder\", ci=None)\n",
    "plt.title(\"Scatter plot with a regression line\")\n",
    "plt.show()"
   ]
  },
  {
   "cell_type": "markdown",
   "id": "advised-circuit",
   "metadata": {},
   "source": [
    "The function `ols` from `statsmodels.formula.api` is imported to fit the regression model mathematically and estimate the model parameters."
   ]
  },
  {
   "cell_type": "code",
   "execution_count": null,
   "id": "incredible-intake",
   "metadata": {},
   "outputs": [],
   "source": [
    "from statsmodels.formula.api import ols\n",
    "model_ss = ols('Q(\"Life Ladder\") ~ Q(\"Social support\")', data=happy_2018).fit()\n",
    "model_ss.summary()"
   ]
  },
  {
   "cell_type": "markdown",
   "id": "backed-breeding",
   "metadata": {},
   "source": [
    "### Regression model for Life Ladder as the response variable and Perceptions of corruption as the predictor\n",
    "\n",
    "We repeat the same process to fit another model and use Perceptions of corruption to predict the response variable."
   ]
  },
  {
   "cell_type": "code",
   "execution_count": null,
   "id": "marked-heading",
   "metadata": {},
   "outputs": [],
   "source": [
    "sns.lmplot(data=happy_2018, x=\"Perceptions of corruption\", y=\"Life Ladder\", ci=None)\n",
    "plt.title(\"Scatter plot with a regression line\")\n",
    "plt.show()"
   ]
  },
  {
   "cell_type": "markdown",
   "id": "e7fe6be6",
   "metadata": {},
   "source": [
    "The regression model is:"
   ]
  },
  {
   "cell_type": "code",
   "execution_count": null,
   "id": "streaming-probe",
   "metadata": {},
   "outputs": [],
   "source": [
    "from statsmodels.formula.api import ols\n",
    "model_pc = ols('Q(\"Life Ladder\") ~ Q(\"Perceptions of corruption\")', data=happy_2018).fit()\n",
    "model_pc.summary()"
   ]
  },
  {
   "cell_type": "markdown",
   "id": "60e5dd15",
   "metadata": {},
   "source": [
    "### Prediction using Regression"
   ]
  },
  {
   "cell_type": "markdown",
   "id": "12e4b62e",
   "metadata": {},
   "source": [
    "Let's say we have ten values for Social Support $0.0, 0.1, ..., 0.9, 1$ stored in a dataframe. We utilise the first regression model fitted before to predict values of the response variable, Life Ladder, for these Social Support values. The function for this purpose is `predict`."
   ]
  },
  {
   "cell_type": "code",
   "execution_count": null,
   "id": "dc3b7b84",
   "metadata": {},
   "outputs": [],
   "source": [
    "extradata = pd.DataFrame({\"Social support\": np.arange(0, 1.1, 0.1)})\n",
    "predictions = model_ss.predict(extradata)\n",
    "extradata[\"LLprediction\"] = predictions\n",
    "extradata"
   ]
  },
  {
   "cell_type": "markdown",
   "id": "ec288191",
   "metadata": {},
   "source": [
    "Plot the predicted values on the initial scatter plot."
   ]
  },
  {
   "cell_type": "code",
   "execution_count": null,
   "id": "e2192d13",
   "metadata": {},
   "outputs": [],
   "source": [
    "sns.lmplot(data=happy_2018, x=\"Social support\", y=\"Life Ladder\", ci=None)\n",
    "plt.title(\"Scatter plot with a regression line\")\n",
    "sns.scatterplot(x=\"Social support\", y=\"LLprediction\", data=extradata, color=\"red\", marker=\"s\")\n",
    "plt.show()"
   ]
  },
  {
   "cell_type": "markdown",
   "id": "0e6cc319",
   "metadata": {},
   "source": [
    "### Multiple linear regression (regression with more than one predictor)\n",
    "\n",
    "It is quite common and necessary to fit a regression model with more than one predictor to include the effect of all the possible predictors on the response variable. The `scatter_matrix` below is an easy way of having a quick look at the relationship of all the variables of interest."
   ]
  },
  {
   "cell_type": "code",
   "execution_count": null,
   "id": "a5b95fe6",
   "metadata": {},
   "outputs": [],
   "source": [
    "from pandas.plotting import scatter_matrix\n",
    "scatter_matrix(happy_2018[[\"Life Ladder\", \"Social support\", \"Perceptions of corruption\"]])  \n",
    "plt.show()"
   ]
  },
  {
   "cell_type": "markdown",
   "id": "8ccee977",
   "metadata": {},
   "source": [
    "To fit a normal linear regression model with more than one predictor, we add `+` all the predictors while writing the `ols` model in the form of: \n",
    "\n",
    "`model_name = ols(\"y ~ x1 + x2 + x3 + x4\", data=data_name).fit()`. "
   ]
  },
  {
   "cell_type": "code",
   "execution_count": null,
   "id": "24557ce3",
   "metadata": {},
   "outputs": [],
   "source": [
    "from statsmodels.formula.api import ols\n",
    "model_sp = ols('Q(\"Life Ladder\") ~ Q(\"Social support\")+Q(\"Perceptions of corruption\")', data=happy_2018).fit()\n",
    "model_sp.params"
   ]
  },
  {
   "cell_type": "code",
   "execution_count": null,
   "id": "575bf730",
   "metadata": {},
   "outputs": [],
   "source": [
    "model_sp.summary()"
   ]
  },
  {
   "cell_type": "markdown",
   "id": "quarterly-parish",
   "metadata": {},
   "source": [
    "### Model Residuals\n",
    "\n",
    "The difference between a prediction and an observed response is a residual. The residuals of a regression model are either calculated directly or by using `.resid` after the fitted model. For the model of lafe ladder defined by the social support the residuals are:"
   ]
  },
  {
   "cell_type": "code",
   "execution_count": null,
   "id": "according-lawsuit",
   "metadata": {
    "scrolled": true
   },
   "outputs": [],
   "source": [
    "fitted = model_ss.fittedvalues\n",
    "residuals = happy_2018[\"Life Ladder\"] - fitted\n",
    "print(residuals)"
   ]
  },
  {
   "cell_type": "code",
   "execution_count": null,
   "id": "annoying-hungary",
   "metadata": {},
   "outputs": [],
   "source": [
    "residuals = model_ss.resid\n",
    "print(residuals)"
   ]
  },
  {
   "cell_type": "markdown",
   "id": "angry-interstate",
   "metadata": {},
   "source": [
    "## Checking model assumptions"
   ]
  },
  {
   "cell_type": "markdown",
   "id": "editorial-singer",
   "metadata": {},
   "source": [
    "Scatter plot of the variables was shown before. \n",
    "\n",
    "To assess normality of the residuals, a `qqplot` is made. Here, the residuals seem to be sufficiently following a normal distribution.  "
   ]
  },
  {
   "cell_type": "code",
   "execution_count": null,
   "id": "second-decision",
   "metadata": {},
   "outputs": [],
   "source": [
    "from statsmodels.api import qqplot\n",
    "qqplot(data=model_ss.resid, fit=True, line=\"45\")\n",
    "plt.show()"
   ]
  },
  {
   "cell_type": "markdown",
   "id": "specialized-declaration",
   "metadata": {},
   "source": [
    "The plot of residuals against fitted values is almost randomly patterned around zero. Although there is a bit of a curvature (it may be a good idea to fit a quadratic model to this data)."
   ]
  },
  {
   "cell_type": "code",
   "execution_count": null,
   "id": "0001f5ff",
   "metadata": {},
   "outputs": [],
   "source": [
    "#plotting fitted values (predictions) of the model against the model's residuals\n",
    "sns.residplot(data=happy_2018, x=model_ss.fittedvalues, y=model_ss.resid, lowess=True)\n",
    "plt.xlabel(\"Fitted values\")\n",
    "plt.ylabel(\"Residuals\")\n",
    "plt.show()\n",
    "#for a model with only one predictor, you could also use:\n",
    "#sns.residplot(data=happy_2018, x=\"Social support\", y=\"Life Ladder\", lowess=True)"
   ]
  },
  {
   "cell_type": "markdown",
   "id": "aggregate-comparison",
   "metadata": {},
   "source": [
    "### Outliers"
   ]
  },
  {
   "cell_type": "markdown",
   "id": "productive-starter",
   "metadata": {},
   "source": [
    "In a regression model, the plot of residuals against fitted values is randomly patterned around zero and residuals are normally distributed. Another important point about residuals is to make sure that there are not any outliers present.\n",
    "\n",
    "One way of checking for outliers in the model is via __Cook’s distance__. It is used to indicate influential data points that are particularly worth checking for validity.  "
   ]
  },
  {
   "cell_type": "code",
   "execution_count": null,
   "id": "opened-first",
   "metadata": {},
   "outputs": [],
   "source": [
    "sns.residplot(data=happy_2018, x=\"Perceptions of corruption\", y=\"Life Ladder\", lowess=True)\n",
    "plt.xlabel(\"Fitted values\")\n",
    "plt.ylabel(\"Residuals\")\n",
    "plt.show()"
   ]
  },
  {
   "cell_type": "code",
   "execution_count": null,
   "id": "601d5f04",
   "metadata": {},
   "outputs": [],
   "source": [
    "# see a boxplot of the residuals\n",
    "#residuals = model_pc.resid\n",
    "#plt.boxplot(residuals)\n",
    "#plt.show()"
   ]
  },
  {
   "cell_type": "markdown",
   "id": "demographic-covering",
   "metadata": {},
   "source": [
    "Cook's distance shows the influence of each observation on the fitted response values. They are calculated and sorted as below."
   ]
  },
  {
   "cell_type": "code",
   "execution_count": null,
   "id": "painful-latitude",
   "metadata": {},
   "outputs": [],
   "source": [
    "summary_pc = model_pc.get_influence().summary_frame()\n",
    "summary_pc"
   ]
  },
  {
   "cell_type": "code",
   "execution_count": null,
   "id": "sublime-metallic",
   "metadata": {},
   "outputs": [],
   "source": [
    "print(summary_pc.sort_values(\"cooks_d\", ascending = False))"
   ]
  },
  {
   "cell_type": "markdown",
   "id": "capital-click",
   "metadata": {},
   "source": [
    "As a rule of thumb, Cook’s distances bigger than 0.3 are problematic. Row 1280 belongs to Rwanda which is an outlier."
   ]
  },
  {
   "cell_type": "code",
   "execution_count": null,
   "id": "documented-neighbor",
   "metadata": {},
   "outputs": [],
   "source": [
    "summary_pc[summary_pc[\"cooks_d\"] > 0.3]"
   ]
  },
  {
   "cell_type": "code",
   "execution_count": null,
   "id": "damaged-candidate",
   "metadata": {},
   "outputs": [],
   "source": [
    "happy_2018.loc[1280]"
   ]
  },
  {
   "cell_type": "markdown",
   "id": "assured-therapy",
   "metadata": {},
   "source": [
    "The red line is the regression line after removing Rwanda, which is shifted upwards a bit compared to the initial model."
   ]
  },
  {
   "cell_type": "code",
   "execution_count": null,
   "id": "developing-mother",
   "metadata": {
    "scrolled": true
   },
   "outputs": [],
   "source": [
    "happy_2018_woRwanda = happy_2018[happy_2018[\"Country name\"] != \"Rwanda\"]\n",
    "sns.regplot(data=happy_2018, x=\"Perceptions of corruption\", y=\"Life Ladder\", ci=None, line_kws={\"color\": \"green\"})\n",
    "sns.regplot(data=happy_2018_woRwanda, x=\"Perceptions of corruption\", y=\"Life Ladder\", ci=None, line_kws={\"color\": \"red\"})\n",
    "plt.show()"
   ]
  },
  {
   "cell_type": "markdown",
   "id": "binding-vatican",
   "metadata": {},
   "source": [
    "## Model Assessment - How good is the model fitting the observations? "
   ]
  },
  {
   "cell_type": "markdown",
   "id": "finished-waste",
   "metadata": {},
   "source": [
    "1) RMSE (Root Mean Squared Error)\n",
    "\n",
    "A \"typical\" difference between a prediction and an observed response in a regression model. The model of Life Ladder and the Social Support is saved as `model_ss`. We can directly calculate the RMSE or use the function `mse_resid` and take the square root of it."
   ]
  },
  {
   "cell_type": "code",
   "execution_count": null,
   "id": "467cc775",
   "metadata": {},
   "outputs": [],
   "source": [
    "residuals = model_ss.resid\n",
    "sum_sq_error = np.sum(residuals**2)\n",
    "mse = sum_sq_error / (len(residuals)-2)\n",
    "rmse = np.sqrt(mse)\n",
    "print(\"rmse :\", rmse)"
   ]
  },
  {
   "cell_type": "code",
   "execution_count": null,
   "id": "9a5c14f1",
   "metadata": {},
   "outputs": [],
   "source": [
    "mse = rmse**2\n",
    "print(mse)"
   ]
  },
  {
   "cell_type": "code",
   "execution_count": null,
   "id": "b7be94b2",
   "metadata": {},
   "outputs": [],
   "source": [
    "# use the function mse_resid\n",
    "mse = model_ss.mse_resid\n",
    "rmse = np.sqrt(mse)\n",
    "rmse"
   ]
  },
  {
   "cell_type": "code",
   "execution_count": null,
   "id": "5b61ab1e",
   "metadata": {},
   "outputs": [],
   "source": [
    "# rmse for the model with Perceptions of Corruption as the predictor \n",
    "mse = model_pc.mse_resid\n",
    "rmse = np.sqrt(mse)\n",
    "rmse"
   ]
  },
  {
   "cell_type": "code",
   "execution_count": null,
   "id": "16fcc804",
   "metadata": {},
   "outputs": [],
   "source": [
    "# rmse for the model with two predictors\n",
    "mse = model_sp.mse_resid\n",
    "rmse = np.sqrt(mse)\n",
    "rmse"
   ]
  },
  {
   "cell_type": "markdown",
   "id": "irish-pledge",
   "metadata": {},
   "source": [
    "2) R-squared \n",
    "\n",
    "The proportion of the variance in the response variable that is predictable by the explanatory variable in the model."
   ]
  },
  {
   "cell_type": "code",
   "execution_count": null,
   "id": "c9a2774f",
   "metadata": {},
   "outputs": [],
   "source": [
    "model_ss.rsquared"
   ]
  },
  {
   "cell_type": "markdown",
   "id": "7bce47b5",
   "metadata": {},
   "source": [
    "In a model with only one predictor, R-squared is the correlation between the two variables (response and predictor) to the power of two."
   ]
  },
  {
   "cell_type": "code",
   "execution_count": null,
   "id": "8b4c048b",
   "metadata": {},
   "outputs": [],
   "source": [
    "import scipy.stats\n",
    "correlation =scipy.stats.pearsonr(happy_2018[\"Social support\"], happy_2018[\"Life Ladder\"])[0]\n",
    "correlation**2"
   ]
  },
  {
   "cell_type": "code",
   "execution_count": null,
   "id": "60364352",
   "metadata": {},
   "outputs": [],
   "source": [
    "#R-squared for all three models\n",
    "print(model_ss.rsquared)\n",
    "print(model_pc.rsquared)\n",
    "print(model_sp.rsquared)"
   ]
  },
  {
   "cell_type": "markdown",
   "id": "cutting-native",
   "metadata": {},
   "source": [
    "# Exercises"
   ]
  },
  {
   "cell_type": "markdown",
   "id": "commercial-individual",
   "metadata": {},
   "source": [
    "1. Fit a simple linrear regression model for `Life Ladder` as the dependent variable and `Freedom to make life choices` as the predictor variable."
   ]
  },
  {
   "cell_type": "code",
   "execution_count": null,
   "id": "2d7e5842",
   "metadata": {},
   "outputs": [],
   "source": []
  },
  {
   "cell_type": "markdown",
   "id": "certain-strengthening",
   "metadata": {},
   "source": [
    "2. Check the assumptions of this regression model."
   ]
  },
  {
   "cell_type": "code",
   "execution_count": null,
   "id": "062a55b9",
   "metadata": {},
   "outputs": [],
   "source": []
  },
  {
   "cell_type": "markdown",
   "id": "amazing-princess",
   "metadata": {},
   "source": [
    "3. Check the goodness of fit of this model."
   ]
  },
  {
   "cell_type": "code",
   "execution_count": null,
   "id": "6e88f7ae",
   "metadata": {},
   "outputs": [],
   "source": []
  }
 ],
 "metadata": {
  "kernelspec": {
   "display_name": "Python 3 (ipykernel)",
   "language": "python",
   "name": "python3"
  },
  "language_info": {
   "codemirror_mode": {
    "name": "ipython",
    "version": 3
   },
   "file_extension": ".py",
   "mimetype": "text/x-python",
   "name": "python",
   "nbconvert_exporter": "python",
   "pygments_lexer": "ipython3",
   "version": "3.9.13"
  }
 },
 "nbformat": 4,
 "nbformat_minor": 5
}
