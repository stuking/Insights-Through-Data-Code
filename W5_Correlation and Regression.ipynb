{
 "cells": [
  {
   "cell_type": "markdown",
   "id": "welcome-preservation",
   "metadata": {},
   "source": [
    "# Fundamentals of Statistics\n",
    "## Correlation and Normal Linear Regression"
   ]
  },
  {
   "cell_type": "markdown",
   "id": "insured-source",
   "metadata": {},
   "source": [
    "## Data\n",
    "\n",
    "This dataset is from the [World Happiness Report](https://worldhappiness.report/ed/2018/). The report uses six key variables to measure happiness differences: “income, healthy life expectancy, having someone to count on in times of trouble, generosity, freedom and trust, with the latter measured by the absence of corruption in business and government.”\n",
    "The Happiness Index is an indication of happiness based on survey results, that was first used in the 2012 World Happiness Report. In the survey, the respondents were asked to rate their happiness on a scale from 0 to 10. The Happiness Index is calculated by averaging the survey results of the respondents. \n",
    "\n",
    "We import the required modules and then read in the data which is in an Excel file. We make a subset of the data for  2018, `Year == 2018`, and choose only the first 12 columns/variables. Since the data includes many missing values shown with NaN (Not a Number), the `dropna()` function is used to drop the rows where at least one element is missing. \n",
    "\n",
    "The final dataset (datafreme) that we will work with is `happy_2018`."
   ]
  },
  {
   "cell_type": "code",
   "execution_count": null,
   "id": "assured-hughes",
   "metadata": {},
   "outputs": [],
   "source": [
    "import pandas as pd\n",
    "import numpy as np\n",
    "import matplotlib.pyplot as plt\n",
    "import seaborn as sns"
   ]
  },
  {
   "cell_type": "code",
   "execution_count": null,
   "id": "statistical-reconstruction",
   "metadata": {},
   "outputs": [],
   "source": [
    "happyness = pd.read_excel(\"Chapter2OnlineData.xls\")     #load all the dataset\n",
    "happy_2018 = happyness.loc[(happyness['Year'] == 2018)] #make a subset for year 2018\n",
    "happy_2018 = happy_2018.iloc[0:136, 0:11]               #choose all the rows and only the first 11 columns we need\n",
    "happy_2018 = happy_2018.dropna()                        #drop the countries/rows that have NaNs\n",
    "happy_2018                                              #the final dataset we work with has 118 rows and 11 columns"
   ]
  },
  {
   "cell_type": "markdown",
   "id": "initial-plant",
   "metadata": {},
   "source": [
    "## Correlation"
   ]
  },
  {
   "cell_type": "markdown",
   "id": "homeless-quilt",
   "metadata": {},
   "source": [
    "In order to investigate the relationship of two variables, correlation between them can be calculated. However, it helps to look at the scatter plot of the two variables as well. We use the `seaborn` module, imported as `sns`, to make such a plot easily. Let's explore the relationship between \"Social support\" and \"Life Ladder\"."
   ]
  },
  {
   "cell_type": "code",
   "execution_count": null,
   "id": "acknowledged-newspaper",
   "metadata": {},
   "outputs": [],
   "source": [
    "sns.scatterplot(data=happy_2018, x=\"Social support\", y=\"Life Ladder\")\n",
    "plt.title(\"Scatter plot\")\n",
    "plt.show()"
   ]
  },
  {
   "cell_type": "markdown",
   "id": "metallic-theology",
   "metadata": {},
   "source": [
    "It is shown that increasing social support increases the life ladder. But, how strong is this linear connection? There are different ways to calculate Pearson correlation in Python. We import the `scipy.stats` module and use the `pearsonr` function."
   ]
  },
  {
   "cell_type": "code",
   "execution_count": null,
   "id": "patient-county",
   "metadata": {},
   "outputs": [],
   "source": [
    "import scipy.stats\n",
    "scipy.stats.pearsonr(happy_2018[\"Social support\"], happy_2018[\"Life Ladder\"])[0]\n",
    "# or you can try\n",
    "# from scipy.stats import pearsonr\n",
    "# pearsonr(happy_2018[\"Social support\"], happy_2018[\"Life Ladder\"])[0]"
   ]
  },
  {
   "cell_type": "markdown",
   "id": "integrated-freeze",
   "metadata": {},
   "source": [
    "Next, we look at the relationship of \"Perceptions of corruption\" and \"Life Ladder\"."
   ]
  },
  {
   "cell_type": "code",
   "execution_count": null,
   "id": "reverse-cement",
   "metadata": {},
   "outputs": [],
   "source": [
    "sns.scatterplot(data=happy_2018, x=\"Perceptions of corruption\", y=\"Life Ladder\")\n",
    "plt.title(\"Scatter plot\")\n",
    "plt.show()"
   ]
  },
  {
   "cell_type": "code",
   "execution_count": null,
   "id": "female-denver",
   "metadata": {},
   "outputs": [],
   "source": [
    "scipy.stats.pearsonr(happy_2018[\"Perceptions of corruption\"], happy_2018[\"Life Ladder\"])[0]"
   ]
  },
  {
   "cell_type": "markdown",
   "id": "bibliographic-maker",
   "metadata": {},
   "source": [
    "## Simple Linear Regression (with one predictor)"
   ]
  },
  {
   "cell_type": "markdown",
   "id": "visible-swimming",
   "metadata": {},
   "source": [
    "### Regression model for Life Ladder as the response variable and Social Support as the predictor\n",
    "\n",
    "The `lmplot` from Seaborn module makes a scatter plot with a regression line fitted to the variables. In the plot below, the $(0,0)$ point is also included.  "
   ]
  },
  {
   "cell_type": "code",
   "execution_count": null,
   "id": "canadian-medicine",
   "metadata": {},
   "outputs": [],
   "source": [
    "sns.lmplot(data=happy_2018, x=\"Social support\", y=\"Life Ladder\", ci=None)\n",
    "plt.title(\"Scatter plot with a regression line\")\n",
    "plt.ylim(0, )\n",
    "plt.xlim(0, )\n",
    "plt.show()"
   ]
  },
  {
   "cell_type": "markdown",
   "id": "advised-circuit",
   "metadata": {},
   "source": [
    "We use the Python module [statsmodels](https://www.statsmodels.org/stable/examples/index.html) to fit regression models. There are other Python modules for this purpose but `statsmodels` produces nice and complete outputs which help with understanding the process. See this [link](http://scipy-lectures.org/packages/statistics/index.html#linear-models-multiple-factors-and-analysis-of-variance) for extra regression examples with `statsmodels`.\n",
    "\n",
    "The function `ols` from `statsmodels.formula.api` is imported to fit the regression model mathematically and estimate the model parameters. The `Q` is used in the formula because there is a space included in the variable names, otherwise you wouldn't need it. The general format of using `ols` is:\n",
    "\n",
    "`model_name = ols('y ~ x', data= data_name).fit()`"
   ]
  },
  {
   "cell_type": "code",
   "execution_count": null,
   "id": "incredible-intake",
   "metadata": {},
   "outputs": [],
   "source": [
    "from statsmodels.formula.api import ols\n",
    "model_ss = ols('Q(\"Life Ladder\") ~ Q(\"Social support\")', data=happy_2018).fit()\n",
    "model_ss.params"
   ]
  },
  {
   "cell_type": "markdown",
   "id": "binding-keeping",
   "metadata": {},
   "source": [
    "A complete and detailed output of the model is given by checking the `summary` of the fitted model."
   ]
  },
  {
   "cell_type": "code",
   "execution_count": null,
   "id": "clean-representative",
   "metadata": {
    "scrolled": true
   },
   "outputs": [],
   "source": [
    "model_ss.summary()"
   ]
  },
  {
   "cell_type": "markdown",
   "id": "architectural-communication",
   "metadata": {},
   "source": [
    "__Model wihtout an intercept:__\n",
    "In the model output, you can see that p-value of the intercept is large (>0.05). It is an indication that the intercept of the model could be zero. So we can try to fit a regression model without an intercept by adding `-1` to the model. Then the model will be `y = b*x`."
   ]
  },
  {
   "cell_type": "code",
   "execution_count": null,
   "id": "numerous-netscape",
   "metadata": {},
   "outputs": [],
   "source": [
    "from statsmodels.formula.api import ols\n",
    "model_ss0 = ols('Q(\"Life Ladder\") ~ Q(\"Social support\") -1', data=happy_2018).fit()\n",
    "model_ss0.summary()"
   ]
  },
  {
   "cell_type": "markdown",
   "id": "backed-breeding",
   "metadata": {},
   "source": [
    "### Regression model for Life Ladder as the response variable and Perceptions of corruption as the predictor\n",
    "\n",
    "Repeat the same process to fit another model and use Perceptions of corruption to predict the response variable."
   ]
  },
  {
   "cell_type": "code",
   "execution_count": null,
   "id": "marked-heading",
   "metadata": {},
   "outputs": [],
   "source": [
    "sns.lmplot(data=happy_2018, x=\"Perceptions of corruption\", y=\"Life Ladder\", ci=None)\n",
    "plt.title(\"Scatter plot with a regression line\")\n",
    "plt.show()"
   ]
  },
  {
   "cell_type": "code",
   "execution_count": null,
   "id": "streaming-probe",
   "metadata": {},
   "outputs": [],
   "source": [
    "from statsmodels.formula.api import ols\n",
    "model_pc = ols('Q(\"Life Ladder\") ~ Q(\"Perceptions of corruption\")', data=happy_2018).fit()\n",
    "model_pc.params"
   ]
  },
  {
   "cell_type": "code",
   "execution_count": null,
   "id": "secret-greenhouse",
   "metadata": {},
   "outputs": [],
   "source": [
    "model_pc.summary()"
   ]
  },
  {
   "cell_type": "markdown",
   "id": "cutting-native",
   "metadata": {},
   "source": [
    "# Excercises"
   ]
  },
  {
   "cell_type": "markdown",
   "id": "eight-teaching",
   "metadata": {},
   "source": [
    "1. Make a scatterplot of \"Life Ladder\" and \"Freedom to make life choices\". Calculate the Pearson correlation between these two variables. What does this correlation mean?"
   ]
  },
  {
   "cell_type": "code",
   "execution_count": null,
   "id": "lesbian-drinking",
   "metadata": {},
   "outputs": [],
   "source": []
  },
  {
   "cell_type": "markdown",
   "id": "touched-comparison",
   "metadata": {},
   "source": [
    "2. Fit a simple linrear regression model for Life Ladder as the dependent variable and \"Freedom to make life choices\" as the predictor variable. Get the summary of the model."
   ]
  },
  {
   "cell_type": "code",
   "execution_count": null,
   "id": "swedish-ghana",
   "metadata": {},
   "outputs": [],
   "source": []
  },
  {
   "cell_type": "markdown",
   "id": "filled-genesis",
   "metadata": {},
   "source": [
    "3. Explain what you learn about life ladder by this regression model. "
   ]
  },
  {
   "cell_type": "code",
   "execution_count": null,
   "id": "three-enlargement",
   "metadata": {},
   "outputs": [],
   "source": []
  }
 ],
 "metadata": {
  "kernelspec": {
   "display_name": "Python 3 (ipykernel)",
   "language": "python",
   "name": "python3"
  },
  "language_info": {
   "codemirror_mode": {
    "name": "ipython",
    "version": 3
   },
   "file_extension": ".py",
   "mimetype": "text/x-python",
   "name": "python",
   "nbconvert_exporter": "python",
   "pygments_lexer": "ipython3",
   "version": "3.9.13"
  }
 },
 "nbformat": 4,
 "nbformat_minor": 5
}
